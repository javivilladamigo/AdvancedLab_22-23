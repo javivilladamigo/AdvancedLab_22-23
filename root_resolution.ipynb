{
 "cells": [
  {
   "cell_type": "code",
   "execution_count": 67,
   "metadata": {},
   "outputs": [],
   "source": [
    "import os\n",
    "import numpy as np\n",
    "import scipy.optimize as so\n",
    "import matplotlib.pyplot as plt\n",
    "plt.clf()\n",
    "plt.close('all')\n",
    "plt.style.use('classic')\n",
    "import csv\n",
    "from google_drive_downloader import GoogleDriveDownloader as gdd # downloads from google drive\n",
    "import ROOT as r\n",
    "%jsroot on"
   ]
  },
  {
   "cell_type": "code",
   "execution_count": 71,
   "metadata": {},
   "outputs": [],
   "source": [
    "# FILE TO BE ANALYZED #\n",
    "date = \"20220428/\"\n",
    "fileName = \"60Co_CLYC_PD\"\n",
    "\n",
    "data_dir = \"data/\" # not to be changed\n",
    "analysis_dir = \"analysis/\" # not be changed\n",
    "\n",
    "output = \"./\" + data_dir + date + fileName + \".root\"\n",
    "\n",
    "if (date + fileName == \"20220428/60Co_CLYC_ML\"):\n",
    "    gdd.download_file_from_google_drive(file_id='1NOuMLVx_2cE8S4tgEioj7NgYsR4U-0A9', dest_path = output)\n",
    "\n",
    "if (date + fileName == \"20220428/60Co_CLYC_PD\"):\n",
    "    gdd.download_file_from_google_drive(file_id='1pxm0QwJ7JLtx5nOAGVovZgyxc-IHZ2UO', dest_path = output)\n",
    "if (date + fileName == \"20220428/133Ba_CLYC_PD\"):\n",
    "    gdd.download_file_from_google_drive(file_id='1eeb_2Fe0rorJxyf2D8vXZBdU6n8Jb9nE', dest_path = output)\n",
    "if (date + fileName == \"20220428/22Na_CLYC_PD\"):\n",
    "    gdd.download_file_from_google_drive(file_id='17T_Iko2GcZs7_YgzZ9XqYN0ba5fmBOXi', dest_path = output)\n",
    "if (date + fileName == \"20220428/137Cs_CLYC_PD\"):\n",
    "    gdd.download_file_from_google_drive(file_id='1MtS7CPTwx-JAOMH8ApXoAifCuWIIYn4D', dest_path = output)"
   ]
  },
  {
   "cell_type": "code",
   "execution_count": 74,
   "metadata": {},
   "outputs": [],
   "source": [
    "bins = 8192\n",
    "\n",
    "f = r.TFile(output)\n",
    "tree = f.Get(\"Data_F;1\")\n",
    "h = r.TH1I(\"hist\", \"\", bins, 0, 2000)\n",
    "\n",
    "for entry in tree:         \n",
    "     # Now you have acess to the leaves/branches of each entry in the tree, e.g.\n",
    "     events = entry.Energy\n",
    "     # timestamp = entry.Timestamp\n",
    "     h.Fill(events)\n"
   ]
  },
  {
   "cell_type": "code",
   "execution_count": 75,
   "metadata": {},
   "outputs": [
    {
     "name": "stderr",
     "output_type": "stream",
     "text": [
      "Warning in <TCanvas::Constructor>: Deleting canvas with same name: c1\n"
     ]
    },
    {
     "data": {
      "text/html": [
       "\n",
       "\n",
       "<div id=\"root_plot_1651405909111\"\n",
       "     style=\"width: 796px; height: 572px\">\n",
       "</div>\n",
       "<script>\n",
       "\n",
       "function display_root_plot_1651405909111(Core) {\n",
       "   let obj = Core.parse({\"_typename\":\"TCanvas\",\"fUniqueID\":0,\"fBits\":3342344,\"fLineColor\":1,\"fLineStyle\":1,\"fLineWidth\":1,\"fFillColor\":0,\"fFillStyle\":1001,\"fLeftMargin\":0.1,\"fRightMargin\":0.1,\"fBottomMargin\":0.1,\"fTopMargin\":0.1,\"fXfile\":2,\"fYfile\":2,\"fAfile\":1,\"fXstat\":0.99,\"fYstat\":0.99,\"fAstat\":2,\"fFrameFillColor\":0,\"fFrameLineColor\":1,\"fFrameFillStyle\":1001,\"fFrameLineStyle\":1,\"fFrameLineWidth\":1,\"fFrameBorderSize\":1,\"fFrameBorderMode\":0,\"fX1\":-250.000018626453,\"fY1\":-175.875013103709,\"fX2\":2250.00001862645,\"fY2\":1582.87501310371,\"fXtoAbsPixelk\":79.60005474453,\"fXtoPixelk\":79.60005474453,\"fXtoPixel\":0.31839999525547,\"fYtoAbsPixelk\":514.800046590614,\"fYtoPixelk\":514.800046590614,\"fYtoPixel\":-0.325230983071236,\"fUtoAbsPixelk\":5e-5,\"fUtoPixelk\":5e-5,\"fUtoPixel\":796,\"fVtoAbsPixelk\":572.00005,\"fVtoPixelk\":572,\"fVtoPixel\":-572,\"fAbsPixeltoXk\":-250.000018626453,\"fPixeltoXk\":-250.000018626453,\"fPixeltoX\":3.14070356438807,\"fAbsPixeltoYk\":1582.87501310371,\"fPixeltoYk\":-175.875013103709,\"fPixeltoY\":-3.07473780805493,\"fXlowNDC\":0,\"fYlowNDC\":0,\"fXUpNDC\":1,\"fYUpNDC\":1,\"fWNDC\":1,\"fHNDC\":1,\"fAbsXlowNDC\":0,\"fAbsYlowNDC\":0,\"fAbsWNDC\":1,\"fAbsHNDC\":1,\"fUxmin\":0,\"fUymin\":0,\"fUxmax\":2000,\"fUymax\":1407,\"fTheta\":30,\"fPhi\":30,\"fAspectRatio\":0,\"fNumber\":0,\"fTickx\":0,\"fTicky\":0,\"fLogx\":0,\"fLogy\":0,\"fLogz\":0,\"fPadPaint\":0,\"fCrosshair\":0,\"fCrosshairPos\":0,\"fBorderSize\":2,\"fBorderMode\":0,\"fModified\":false,\"fGridx\":false,\"fGridy\":false,\"fAbsCoord\":false,\"fEditable\":true,\"fFixedAspectRatio\":false,\"fPrimitives\":{\"_typename\":\"TList\",\"name\":\"TList\",\"arr\":[{\"_typename\":\"TFrame\",\"fUniqueID\":0,\"fBits\":8,\"fLineColor\":1,\"fLineStyle\":1,\"fLineWidth\":1,\"fFillColor\":0,\"fFillStyle\":1001,\"fX1\":0,\"fY1\":0,\"fX2\":2000,\"fY2\":1407,\"fBorderSize\":1,\"fBorderMode\":0},{\"_typename\":\"TH1I\",\"fUniqueID\":0,\"fBits\":8,\"fName\":\"hist\",\"fTitle\":\"\",\"fLineColor\":602,\"fLineStyle\":1,\"fLineWidth\":1,\"fFillColor\":0,\"fFillStyle\":1001,\"fMarkerColor\":1,\"fMarkerStyle\":1,\"fMarkerSize\":1,\"fNcells\":1026,\"fXaxis\":{\"_typename\":\"TAxis\",\"fUniqueID\":0,\"fBits\":0,\"fName\":\"xaxis\",\"fTitle\":\"\",\"fNdivisions\":510,\"fAxisColor\":1,\"fLabelColor\":1,\"fLabelFont\":42,\"fLabelOffset\":0.005,\"fLabelSize\":0.035,\"fTickLength\":0.03,\"fTitleOffset\":1,\"fTitleSize\":0.035,\"fTitleColor\":1,\"fTitleFont\":42,\"fNbins\":1024,\"fXmin\":0,\"fXmax\":2000,\"fXbins\":[],\"fFirst\":1,\"fLast\":8192,\"fBits2\":0,\"fTimeDisplay\":false,\"fTimeFormat\":\"\",\"fLabels\":null,\"fModLabs\":null},\"fYaxis\":{\"_typename\":\"TAxis\",\"fUniqueID\":0,\"fBits\":0,\"fName\":\"yaxis\",\"fTitle\":\"\",\"fNdivisions\":510,\"fAxisColor\":1,\"fLabelColor\":1,\"fLabelFont\":42,\"fLabelOffset\":0.005,\"fLabelSize\":0.035,\"fTickLength\":0.03,\"fTitleOffset\":0,\"fTitleSize\":0.035,\"fTitleColor\":1,\"fTitleFont\":42,\"fNbins\":1,\"fXmin\":0,\"fXmax\":1,\"fXbins\":[],\"fFirst\":0,\"fLast\":0,\"fBits2\":0,\"fTimeDisplay\":false,\"fTimeFormat\":\"\",\"fLabels\":null,\"fModLabs\":null},\"fZaxis\":{\"_typename\":\"TAxis\",\"fUniqueID\":0,\"fBits\":0,\"fName\":\"zaxis\",\"fTitle\":\"\",\"fNdivisions\":510,\"fAxisColor\":1,\"fLabelColor\":1,\"fLabelFont\":42,\"fLabelOffset\":0.005,\"fLabelSize\":0.035,\"fTickLength\":0.03,\"fTitleOffset\":1,\"fTitleSize\":0.035,\"fTitleColor\":1,\"fTitleFont\":42,\"fNbins\":1,\"fXmin\":0,\"fXmax\":1,\"fXbins\":[],\"fFirst\":0,\"fLast\":0,\"fBits2\":0,\"fTimeDisplay\":false,\"fTimeFormat\":\"\",\"fLabels\":null,\"fModLabs\":null},\"fBarOffset\":0,\"fBarWidth\":1000,\"fEntries\":438457,\"fTsumw\":438353,\"fTsumw2\":438353,\"fTsumwx\":345095997,\"fTsumwx2\":348858633669,\"fMaximum\":-1111,\"fMinimum\":-1111,\"fNormFactor\":0,\"fContour\":[],\"fSumw2\":[],\"fOption\":\"\",\"fFunctions\":{\"_typename\":\"TList\",\"name\":\"TList\",\"arr\":[{\"_typename\":\"TPaveStats\",\"fUniqueID\":0,\"fBits\":9,\"fLineColor\":1,\"fLineStyle\":1,\"fLineWidth\":1,\"fFillColor\":0,\"fFillStyle\":1001,\"fX1\":1700.00005066395,\"fY1\":1187.15626769001,\"fX2\":2200.00006556511,\"fY2\":1468.55626559341,\"fX1NDC\":0.780000016093254,\"fY1NDC\":0.775000005960464,\"fX2NDC\":0.980000019073486,\"fY2NDC\":0.935000002384186,\"fBorderSize\":1,\"fInit\":1,\"fShadowColor\":1,\"fCornerRadius\":0,\"fOption\":\"brNDC\",\"fName\":\"stats\",\"fTextAngle\":0,\"fTextSize\":0,\"fTextAlign\":12,\"fTextColor\":1,\"fTextFont\":42,\"fLabel\":\"\",\"fLongest\":18,\"fMargin\":0.05,\"fLines\":{\"_typename\":\"TList\",\"name\":\"TList\",\"arr\":[{\"_typename\":\"TLatex\",\"fUniqueID\":0,\"fBits\":0,\"fName\":\"\",\"fTitle\":\"hist\",\"fTextAngle\":0,\"fTextSize\":0.0368,\"fTextAlign\":0,\"fTextColor\":0,\"fTextFont\":0,\"fX\":0,\"fY\":0,\"fLineColor\":1,\"fLineStyle\":1,\"fLineWidth\":2,\"fLimitFactorSize\":3,\"fOriginSize\":0.0368000008165836},{\"_typename\":\"TLatex\",\"fUniqueID\":0,\"fBits\":0,\"fName\":\"\",\"fTitle\":\"Entries = 438457 \",\"fTextAngle\":0,\"fTextSize\":0,\"fTextAlign\":0,\"fTextColor\":0,\"fTextFont\":0,\"fX\":0,\"fY\":0,\"fLineColor\":1,\"fLineStyle\":1,\"fLineWidth\":2,\"fLimitFactorSize\":3,\"fOriginSize\":0.04},{\"_typename\":\"TLatex\",\"fUniqueID\":0,\"fBits\":0,\"fName\":\"\",\"fTitle\":\"Mean  =  787.3\",\"fTextAngle\":0,\"fTextSize\":0,\"fTextAlign\":0,\"fTextColor\":0,\"fTextFont\":0,\"fX\":0,\"fY\":0,\"fLineColor\":1,\"fLineStyle\":1,\"fLineWidth\":2,\"fLimitFactorSize\":3,\"fOriginSize\":0.04},{\"_typename\":\"TLatex\",\"fUniqueID\":0,\"fBits\":0,\"fName\":\"\",\"fTitle\":\"Std Dev   =  419.6\",\"fTextAngle\":0,\"fTextSize\":0,\"fTextAlign\":0,\"fTextColor\":0,\"fTextFont\":0,\"fX\":0,\"fY\":0,\"fLineColor\":1,\"fLineStyle\":1,\"fLineWidth\":2,\"fLimitFactorSize\":3,\"fOriginSize\":0.04}],\"opt\":[\"\",\"\",\"\",\"\"]},\"fOptFit\":0,\"fOptStat\":1111,\"fFitFormat\":\"5.4g\",\"fStatFormat\":\"6.4g\",\"fParent\":{\"$ref\":3}}],\"opt\":[\"brNDC\"]},\"fBufferSize\":0,\"fBuffer\":[],\"fBinStatErrOpt\":0,\"fStatOverflows\":2,\"fArray\":{\"$arr\":\"Int32\",\"len\":1026,\"p\":1,\"v\":[23,14,12,12,25,21,18,10,6,9,2,5,2,1,4,2,2,1,1,2,4,3,0,2,4,3,1,3,2,1,2,0,3,4,5,4,5,3,1,2,5,3,0,6,5,9,9,11,5,8,8,12,16,21,25,25,31,42,53,75,83,96,119,65,147,162,195,240,232,272,292,348,361,414,437,462,492,499,535,625,617,595,646,672,678,360,724,762,776,795,760,780,776,774,779,786,815,811,806,740,832,787,790,805,788,807,391,783,813,760,798,817,797,806,814,829,839,820,867,925,909,965,996,1034,1074,1126,1190,575,1181,1164,1157,1117,1235,1169,1132,1132,1086,1170,1094,1084,1063,1106,978,1019,1006,959,951,945,961,480,921,939,886,922,861,880,857,882,881,795,897,856,806,814,781,848,806,820,774,777,412,794,815,783,760,761,753,763,811,715,767,780,752,742,735,770,749,718,707,726,689,387,728,665,693,701,708,679,681,650,680,721,669,702,674,639,674,735,633,647,661,643,640,308,634,616,604,660,649,663,602,622,636,645,654,620,606,649,582,582,588,615,625,604,326,580,597,595,636,570,604,616,602,607,579,614,582,557,566,620,598,582,607,577,605,297,554,615,579,586,556,569,593,590,589,558,596,619,592,612,580,613,597,560,573,594,557,287,592,566,601,583,576,549,612,566,604,571,555,623,545,631,598,569,574,543,554,593,298,558,552,590,532,638,561,560,551,551,593,551,589,562,601,592,549,577,571,577,548,290,555,559,570,527,631,580,586,563,604,562,569,531,604,575,567,566,572,590,554,568,562,319,602,569,569,532,555,559,561,566,585,530,562,607,663,639,603,571,598,568,566,577,297,554,534,567,622,575,552,557,579,551,575,594,548,573,572,595,566,554,572,586,603,285,600,596,606,605,571,603,601,560,560,606,555,572,624,576,569,596,595,552,611,579,590,314,551,553,578,554,603,582,545,571,596,597,561,629,586,576,585,571,633,614,575,607,311,606,579,586,548,606,604,624,575,582,609,594,593,634,638,577,602,639,583,614,600,275,638,604,639,632,596,590,604,625,607,599,649,633,673,606,588,585,617,653,630,654,617,312,591,618,614,623,639,640,604,653,632,648,657,668,608,638,667,664,638,687,622,643,318,617,685,641,658,643,679,668,677,631,633,642,654,610,650,676,682,650,684,634,683,312,643,712,673,633,707,734,685,691,686,653,714,702,745,672,715,705,709,660,691,715,743,391,766,742,735,700,745,724,740,747,739,811,707,784,732,706,748,797,758,832,738,737,353,741,742,729,697,765,746,713,735,748,703,715,735,758,757,673,710,674,700,659,660,340,624,625,560,558,579,582,541,482,539,543,537,529,492,495,477,465,461,526,444,465,508,210,446,419,452,444,433,425,434,439,441,439,430,443,452,452,435,395,427,409,408,397,188,382,418,433,395,369,395,388,397,385,378,405,382,392,367,430,405,360,368,420,380,187,393,385,428,436,374,385,359,410,359,432,377,373,379,347,374,372,364,340,346,385,350,171,304,325,307,318,302,280,260,273,261,275,277,237,246,255,247,263,241,247,232,239,114,250,273,336,312,381,362,402,468,529,607,625,711,732,795,869,961,996,1090,1127,1127,642,1233,1302,1322,1243,1273,1340,1288,1223,1194,1162,1082,1011,983,874,825,747,698,654,552,518,487,202,328,327,298,232,221,206,182,147,108,133,117,113,86,79,68,71,78,57,65,58,25,54,47,56,44,41,37,32,31,33,22,21,34,25,20,28,25,13,33,32,23,8,26,18,20,22,38,26,37,39,52,48,48,70,88,110,115,144,149,177,190,232,250,134,275,352,395,418,446,514,497,580,596,618,643,731,687,724,746,790,788,770,758,739,389,714,690,660,617,593,544,490,501,452,413,393,295,302,266,251,236,197,169,143,139,64,131,96,98,87,68,65,50,44,36,35,27,36,30,20,26,17,24,26,15,12,14,6,8,12,8,15,11,9,10,6,4,7,4,8,1,5,2,4,4,6,9,2,0,7,3,1,4,5,6,3,2,4,2,3,3,4,3,0,2,3,3,3,3,1,2,1,1,1,3,2,0,0,1,1,1,1,2,2,2,0,4,3,2,3,0,0,1,0,2,1,1,0,2,1,2,2,3,0,3,1,0,1,2,2,0,2,2,2,1,3,1,0,0,1,0,0,2,1,2,2,0,0,0,0,1,2,1,0,0,1,2,0,1,0,2,0,0,0,1,1,3,0,0,0,0,0,4,1,1,0,1,0,1,0,0,0,1,0,1,0,0,1,0,2,1,0,1,1,0,0,1,2,2,0,1,0,1,1,0,1,0,0,1,0,0,3,2,0,0,3,0,0,104]}},{\"_typename\":\"TStyle\",\"fUniqueID\":0,\"fBits\":0,\"fName\":\"Modern\",\"fTitle\":\"Modern Style\",\"fLineColor\":1,\"fLineStyle\":1,\"fLineWidth\":1,\"fFillColor\":19,\"fFillStyle\":1001,\"fMarkerColor\":1,\"fMarkerStyle\":1,\"fMarkerSize\":1,\"fTextAngle\":0,\"fTextSize\":0.05,\"fTextAlign\":11,\"fTextColor\":1,\"fTextFont\":62,\"fXaxis\":{\"_typename\":\"TAttAxis\",\"fNdivisions\":510,\"fAxisColor\":1,\"fLabelColor\":1,\"fLabelFont\":42,\"fLabelOffset\":0.005,\"fLabelSize\":0.035,\"fTickLength\":0.03,\"fTitleOffset\":1,\"fTitleSize\":0.035,\"fTitleColor\":1,\"fTitleFont\":42},\"fYaxis\":{\"_typename\":\"TAttAxis\",\"fNdivisions\":510,\"fAxisColor\":1,\"fLabelColor\":1,\"fLabelFont\":42,\"fLabelOffset\":0.005,\"fLabelSize\":0.035,\"fTickLength\":0.03,\"fTitleOffset\":0,\"fTitleSize\":0.035,\"fTitleColor\":1,\"fTitleFont\":42},\"fZaxis\":{\"_typename\":\"TAttAxis\",\"fNdivisions\":510,\"fAxisColor\":1,\"fLabelColor\":1,\"fLabelFont\":42,\"fLabelOffset\":0.005,\"fLabelSize\":0.035,\"fTickLength\":0.03,\"fTitleOffset\":1,\"fTitleSize\":0.035,\"fTitleColor\":1,\"fTitleFont\":42},\"fBarWidth\":1,\"fBarOffset\":0,\"fColorModelPS\":0,\"fDrawBorder\":0,\"fOptLogx\":0,\"fOptLogy\":0,\"fOptLogz\":0,\"fOptDate\":0,\"fOptStat\":1111,\"fOptTitle\":1,\"fOptFile\":0,\"fOptFit\":0,\"fShowEventStatus\":0,\"fShowEditor\":0,\"fShowToolBar\":0,\"fNumberContours\":20,\"fAttDate\":{\"_typename\":\"TAttText\",\"fTextAngle\":0,\"fTextSize\":0.025,\"fTextAlign\":11,\"fTextColor\":1,\"fTextFont\":62},\"fDateX\":0.01,\"fDateY\":0.01,\"fEndErrorSize\":2,\"fErrorX\":0.5,\"fFuncColor\":2,\"fFuncStyle\":1,\"fFuncWidth\":2,\"fGridColor\":0,\"fGridStyle\":3,\"fGridWidth\":1,\"fLegendBorderSize\":1,\"fLegendFillColor\":0,\"fLegendFont\":42,\"fLegendTextSize\":0,\"fHatchesLineWidth\":1,\"fHatchesSpacing\":1,\"fFrameFillColor\":0,\"fFrameLineColor\":1,\"fFrameFillStyle\":1001,\"fFrameLineStyle\":1,\"fFrameLineWidth\":1,\"fFrameBorderSize\":1,\"fFrameBorderMode\":0,\"fHistFillColor\":0,\"fHistLineColor\":602,\"fHistFillStyle\":1001,\"fHistLineStyle\":1,\"fHistLineWidth\":1,\"fHistMinimumZero\":false,\"fHistTopMargin\":0.05,\"fCanvasPreferGL\":false,\"fCanvasColor\":0,\"fCanvasBorderSize\":2,\"fCanvasBorderMode\":0,\"fCanvasDefH\":500,\"fCanvasDefW\":700,\"fCanvasDefX\":10,\"fCanvasDefY\":10,\"fPadColor\":0,\"fPadBorderSize\":2,\"fPadBorderMode\":0,\"fPadBottomMargin\":0.1,\"fPadTopMargin\":0.1,\"fPadLeftMargin\":0.1,\"fPadRightMargin\":0.1,\"fPadGridX\":false,\"fPadGridY\":false,\"fPadTickX\":0,\"fPadTickY\":0,\"fPaperSizeX\":20,\"fPaperSizeY\":26,\"fScreenFactor\":1,\"fStatColor\":0,\"fStatTextColor\":1,\"fStatBorderSize\":1,\"fStatFont\":42,\"fStatFontSize\":0,\"fStatStyle\":1001,\"fStatFormat\":\"6.4g\",\"fStatX\":0.98,\"fStatY\":0.935,\"fStatW\":0.2,\"fStatH\":0.16,\"fStripDecimals\":true,\"fTitleAlign\":23,\"fTitleColor\":0,\"fTitleTextColor\":1,\"fTitleBorderSize\":0,\"fTitleFont\":42,\"fTitleFontSize\":0.05,\"fTitleStyle\":0,\"fTitleX\":0.5,\"fTitleY\":0.995,\"fTitleW\":0,\"fTitleH\":0,\"fLegoInnerR\":0.5,\"fLineStyles\":[\"\",\"  \",\" 12 12\",\" 4 8\",\" 12 16 4 16\",\" 20 12 4 12\",\" 20 12 4 12 4 12 4 12\",\" 20 20\",\" 20 12 4 12 4 12\",\" 80 20\",\" 80 40 4 40\",\"  \",\"  \",\"  \",\"  \",\"  \",\"  \",\"  \",\"  \",\"  \",\"  \",\"  \",\"  \",\"  \",\"  \",\"  \",\"  \",\"  \",\"  \",\"  \"],\"fHeaderPS\":\"\",\"fTitlePS\":\"\",\"fFitFormat\":\"5.4g\",\"fPaintTextFormat\":\"g\",\"fLineScalePS\":3,\"fJoinLinePS\":0,\"fCapLinePS\":0,\"fTimeOffset\":788918400,\"fImageScaling\":1}],\"opt\":[\"\",\"\",\"\"]},\"fExecs\":null,\"fName\":\"c1\",\"fTitle\":\"\",\"fNumPaletteColor\":0,\"fNextPaletteColor\":0,\"fDISPLAY\":\"$DISPLAY\",\"fDoubleBuffer\":0,\"fRetained\":true,\"fXsizeUser\":0,\"fYsizeUser\":0,\"fXsizeReal\":20,\"fYsizeReal\":15,\"fWindowTopX\":0,\"fWindowTopY\":0,\"fWindowWidth\":0,\"fWindowHeight\":0,\"fCw\":796,\"fCh\":572,\"fCatt\":{\"_typename\":\"TAttCanvas\",\"fXBetween\":2,\"fYBetween\":2,\"fTitleFromTop\":1.2,\"fXdate\":0.2,\"fYdate\":0.3,\"fAdate\":1},\"kMoveOpaque\":true,\"kResizeOpaque\":true,\"fHighLightColor\":2,\"fBatch\":true,\"kShowEventStatus\":false,\"kAutoExec\":true,\"kMenuBar\":true});\n",
       "   Core.settings.HandleKeys = false;\n",
       "   Core.draw(\"root_plot_1651405909111\", obj, \"\");\n",
       "}\n",
       "\n",
       "function script_load_root_plot_1651405909111(src, on_error) {\n",
       "    let script = document.createElement('script');\n",
       "    script.src = src;\n",
       "    script.onload = function() { display_root_plot_1651405909111(JSROOT); };\n",
       "    script.onerror = function() { script.remove(); on_error(); };\n",
       "    document.head.appendChild(script);\n",
       "}\n",
       "\n",
       "if (typeof requirejs !== 'undefined') {\n",
       "\n",
       "    // We are in jupyter notebooks, use require.js which should be configured already\n",
       "    requirejs.config({\n",
       "       paths: { 'JSRootCore' : [ 'scripts/JSRoot.core', 'https://root.cern/js/6.1.1/scripts/JSRoot.core.min', 'https://jsroot.gsi.de/6.1.1/scripts/JSRoot.core.min' ] }\n",
       "    })(['JSRootCore'],  function(Core) {\n",
       "       display_root_plot_1651405909111(Core);\n",
       "    });\n",
       "\n",
       "} else if (typeof JSROOT !== 'undefined') {\n",
       "\n",
       "   // JSROOT already loaded, just use it\n",
       "   display_root_plot_1651405909111(JSROOT);\n",
       "\n",
       "} else {\n",
       "\n",
       "    // We are in jupyterlab without require.js, directly loading jsroot\n",
       "    // Jupyterlab might be installed in a different base_url so we need to know it.\n",
       "    try {\n",
       "        var base_url = JSON.parse(document.getElementById('jupyter-config-data').innerHTML).baseUrl;\n",
       "    } catch(_) {\n",
       "        var base_url = '/';\n",
       "    }\n",
       "\n",
       "    // Try loading a local version of requirejs and fallback to cdn if not possible.\n",
       "    script_load_root_plot_1651405909111(base_url + 'static/scripts/JSRoot.core.js', function(){\n",
       "        console.error('Fail to load JSROOT locally, please check your jupyter_notebook_config.py file');\n",
       "        script_load_root_plot_1651405909111('https://root.cern/js/6.1.1/scripts/JSRoot.core.min.js', function(){\n",
       "            document.getElementById(\"root_plot_1651405909111\").innerHTML = \"Failed to load JSROOT\";\n",
       "        });\n",
       "    });\n",
       "}\n",
       "\n",
       "</script>\n"
      ],
      "text/plain": [
       "<IPython.core.display.HTML object>"
      ]
     },
     "metadata": {},
     "output_type": "display_data"
    }
   ],
   "source": [
    "c1 = r.TCanvas(\"c1\", \"\", 800, 600)\n",
    "h.Rebin(8)\n",
    "h.Draw()\n",
    "c1.Draw()"
   ]
  },
  {
   "cell_type": "code",
   "execution_count": 46,
   "metadata": {},
   "outputs": [],
   "source": [
    "if \"60Co\" in fileName:\n",
    "    xp = [1172, 1332]\n",
    "if \"133Ba\" in fileName:\n",
    "    xp = [276.4, 302.85, 356.02, 383.8]\n",
    "if \"22Na\" in fileName:\n",
    "    xp = [511, 1275]\n",
    "if \"137Cs\" in fileName:\n",
    "    xp = [662]"
   ]
  },
  {
   "cell_type": "code",
   "execution_count": 47,
   "metadata": {},
   "outputs": [],
   "source": [
    "os.remove(output) # deleting the file once we have done the analysis"
   ]
  }
 ],
 "metadata": {
  "interpreter": {
   "hash": "aee8b7b246df8f9039afb4144a1f6fd8d2ca17a180786b69acc140d282b71a49"
  },
  "kernelspec": {
   "display_name": "Python 3.9.12 64-bit",
   "language": "python",
   "name": "python3"
  },
  "language_info": {
   "codemirror_mode": {
    "name": "ipython",
    "version": 3
   },
   "file_extension": ".py",
   "mimetype": "text/x-python",
   "name": "python",
   "nbconvert_exporter": "python",
   "pygments_lexer": "ipython3",
   "version": "3.9.12"
  },
  "orig_nbformat": 4
 },
 "nbformat": 4,
 "nbformat_minor": 2
}

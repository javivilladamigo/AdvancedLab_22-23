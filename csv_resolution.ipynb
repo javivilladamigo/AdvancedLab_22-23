{
 "cells": [
  {
   "cell_type": "code",
   "execution_count": 1,
   "metadata": {},
   "outputs": [
    {
     "name": "stdout",
     "output_type": "stream",
     "text": [
      "Welcome to JupyROOT 6.26/02\n"
     ]
    }
   ],
   "source": [
    "import os\n",
    "import numpy as np\n",
    "import scipy.optimize as so\n",
    "import matplotlib.pyplot as plt\n",
    "plt.clf()\n",
    "plt.close('all')\n",
    "plt.style.use('classic')\n",
    "import csv\n",
    "import pandas as pd\n",
    "import ROOT as r\n",
    "%jsroot on"
   ]
  },
  {
   "cell_type": "code",
   "execution_count": 2,
   "metadata": {},
   "outputs": [],
   "source": [
    "# file\n",
    "\n",
    "def read_file(user):\n",
    "    if user=='nicola':\n",
    "        dirname = '/Users/nicola/Desktop/Advanced Laboratory A/data/20220517/252Cf_CLYC_both_COINCIDENCE_CH4_1/FILTERED/'\n",
    "    if user=='vittoria':\n",
    "        dirname = '/mnt/c/Users/UTENTE/Downloads/252Cf_CLYC_both_COINCIDENCE_CH4_1/FILTERED/'\n",
    "    if user == \"javi\":\n",
    "        dirname = \"/Volumes/javimarino/Padova/AdvancedLab/data/20220517/60Co_252Cf_CLYC_both_COINCIDENCE/UNFILTERED/\"\n",
    "    filename_ch0 = dirname + 'CH_0@DT5725_1701_Data_60Co_252Cf_CLYC_both_1.csv'\n",
    "    filename_ch2 = dirname + 'CH_2@DT5725_1701_Data_60Co_252Cf_CLYC_both_1.csv'\n",
    "    filename_ch4 = dirname + 'CH_4@DT5725_1701_Data_60Co_252Cf_CLYC_both_1.csv'\n",
    "    return filename_ch0, filename_ch2, filename_ch4\n",
    "\n",
    "filename_ch0, filename_ch2, filename_ch4 = read_file('javi')"
   ]
  },
  {
   "cell_type": "code",
   "execution_count": 3,
   "metadata": {},
   "outputs": [
    {
     "data": {
      "text/html": [
       "<div>\n",
       "<style scoped>\n",
       "    .dataframe tbody tr th:only-of-type {\n",
       "        vertical-align: middle;\n",
       "    }\n",
       "\n",
       "    .dataframe tbody tr th {\n",
       "        vertical-align: top;\n",
       "    }\n",
       "\n",
       "    .dataframe thead th {\n",
       "        text-align: right;\n",
       "    }\n",
       "</style>\n",
       "<table border=\"1\" class=\"dataframe\">\n",
       "  <thead>\n",
       "    <tr style=\"text-align: right;\">\n",
       "      <th></th>\n",
       "      <th>TIMETAG</th>\n",
       "      <th>ENERGY</th>\n",
       "      <th>FLAGS</th>\n",
       "      <th>0</th>\n",
       "      <th>1</th>\n",
       "      <th>2</th>\n",
       "      <th>3</th>\n",
       "      <th>4</th>\n",
       "      <th>5</th>\n",
       "      <th>6</th>\n",
       "      <th>...</th>\n",
       "      <th>2486</th>\n",
       "      <th>2487</th>\n",
       "      <th>2488</th>\n",
       "      <th>2489</th>\n",
       "      <th>2490</th>\n",
       "      <th>2491</th>\n",
       "      <th>2492</th>\n",
       "      <th>2493</th>\n",
       "      <th>2494</th>\n",
       "      <th>2495</th>\n",
       "    </tr>\n",
       "  </thead>\n",
       "  <tbody>\n",
       "    <tr>\n",
       "      <th>0</th>\n",
       "      <td>1515996000</td>\n",
       "      <td>114</td>\n",
       "      <td>0x0</td>\n",
       "      <td>3389</td>\n",
       "      <td>3389</td>\n",
       "      <td>3405</td>\n",
       "      <td>3405</td>\n",
       "      <td>3396</td>\n",
       "      <td>3396</td>\n",
       "      <td>3389</td>\n",
       "      <td>...</td>\n",
       "      <td>3404</td>\n",
       "      <td>3404</td>\n",
       "      <td>3405</td>\n",
       "      <td>3405</td>\n",
       "      <td>3404</td>\n",
       "      <td>3404</td>\n",
       "      <td>3396</td>\n",
       "      <td>3396</td>\n",
       "      <td>3405</td>\n",
       "      <td>3405</td>\n",
       "    </tr>\n",
       "    <tr>\n",
       "      <th>1</th>\n",
       "      <td>2111988000</td>\n",
       "      <td>204</td>\n",
       "      <td>0x0</td>\n",
       "      <td>3389</td>\n",
       "      <td>3389</td>\n",
       "      <td>3427</td>\n",
       "      <td>3427</td>\n",
       "      <td>3425</td>\n",
       "      <td>3425</td>\n",
       "      <td>3393</td>\n",
       "      <td>...</td>\n",
       "      <td>3416</td>\n",
       "      <td>3416</td>\n",
       "      <td>3408</td>\n",
       "      <td>3408</td>\n",
       "      <td>3401</td>\n",
       "      <td>3401</td>\n",
       "      <td>3409</td>\n",
       "      <td>3409</td>\n",
       "      <td>3402</td>\n",
       "      <td>3402</td>\n",
       "    </tr>\n",
       "    <tr>\n",
       "      <th>2</th>\n",
       "      <td>4026140000</td>\n",
       "      <td>89</td>\n",
       "      <td>0x0</td>\n",
       "      <td>3391</td>\n",
       "      <td>3391</td>\n",
       "      <td>3389</td>\n",
       "      <td>3389</td>\n",
       "      <td>3380</td>\n",
       "      <td>3380</td>\n",
       "      <td>3375</td>\n",
       "      <td>...</td>\n",
       "      <td>3451</td>\n",
       "      <td>3451</td>\n",
       "      <td>3448</td>\n",
       "      <td>3448</td>\n",
       "      <td>3461</td>\n",
       "      <td>3461</td>\n",
       "      <td>3441</td>\n",
       "      <td>3441</td>\n",
       "      <td>3413</td>\n",
       "      <td>3413</td>\n",
       "    </tr>\n",
       "    <tr>\n",
       "      <th>3</th>\n",
       "      <td>7162124000</td>\n",
       "      <td>95</td>\n",
       "      <td>0x0</td>\n",
       "      <td>3393</td>\n",
       "      <td>3393</td>\n",
       "      <td>3392</td>\n",
       "      <td>3392</td>\n",
       "      <td>3404</td>\n",
       "      <td>3404</td>\n",
       "      <td>3394</td>\n",
       "      <td>...</td>\n",
       "      <td>3405</td>\n",
       "      <td>3405</td>\n",
       "      <td>3396</td>\n",
       "      <td>3396</td>\n",
       "      <td>3396</td>\n",
       "      <td>3396</td>\n",
       "      <td>3400</td>\n",
       "      <td>3400</td>\n",
       "      <td>3402</td>\n",
       "      <td>3402</td>\n",
       "    </tr>\n",
       "    <tr>\n",
       "      <th>4</th>\n",
       "      <td>7522468000</td>\n",
       "      <td>270</td>\n",
       "      <td>0x0</td>\n",
       "      <td>3390</td>\n",
       "      <td>3390</td>\n",
       "      <td>3404</td>\n",
       "      <td>3404</td>\n",
       "      <td>3403</td>\n",
       "      <td>3403</td>\n",
       "      <td>3390</td>\n",
       "      <td>...</td>\n",
       "      <td>3426</td>\n",
       "      <td>3426</td>\n",
       "      <td>3406</td>\n",
       "      <td>3406</td>\n",
       "      <td>3408</td>\n",
       "      <td>3408</td>\n",
       "      <td>3422</td>\n",
       "      <td>3422</td>\n",
       "      <td>3410</td>\n",
       "      <td>3410</td>\n",
       "    </tr>\n",
       "    <tr>\n",
       "      <th>...</th>\n",
       "      <td>...</td>\n",
       "      <td>...</td>\n",
       "      <td>...</td>\n",
       "      <td>...</td>\n",
       "      <td>...</td>\n",
       "      <td>...</td>\n",
       "      <td>...</td>\n",
       "      <td>...</td>\n",
       "      <td>...</td>\n",
       "      <td>...</td>\n",
       "      <td>...</td>\n",
       "      <td>...</td>\n",
       "      <td>...</td>\n",
       "      <td>...</td>\n",
       "      <td>...</td>\n",
       "      <td>...</td>\n",
       "      <td>...</td>\n",
       "      <td>...</td>\n",
       "      <td>...</td>\n",
       "      <td>...</td>\n",
       "      <td>...</td>\n",
       "    </tr>\n",
       "    <tr>\n",
       "      <th>97852</th>\n",
       "      <td>164548898420000</td>\n",
       "      <td>183</td>\n",
       "      <td>0x0</td>\n",
       "      <td>3403</td>\n",
       "      <td>3403</td>\n",
       "      <td>3393</td>\n",
       "      <td>3393</td>\n",
       "      <td>3397</td>\n",
       "      <td>3397</td>\n",
       "      <td>3398</td>\n",
       "      <td>...</td>\n",
       "      <td>3415</td>\n",
       "      <td>3415</td>\n",
       "      <td>3412</td>\n",
       "      <td>3412</td>\n",
       "      <td>3409</td>\n",
       "      <td>3409</td>\n",
       "      <td>3418</td>\n",
       "      <td>3418</td>\n",
       "      <td>3412</td>\n",
       "      <td>3412</td>\n",
       "    </tr>\n",
       "    <tr>\n",
       "      <th>97853</th>\n",
       "      <td>164549044264000</td>\n",
       "      <td>229</td>\n",
       "      <td>0x0</td>\n",
       "      <td>3388</td>\n",
       "      <td>3388</td>\n",
       "      <td>3397</td>\n",
       "      <td>3397</td>\n",
       "      <td>3394</td>\n",
       "      <td>3394</td>\n",
       "      <td>3387</td>\n",
       "      <td>...</td>\n",
       "      <td>3411</td>\n",
       "      <td>3411</td>\n",
       "      <td>3424</td>\n",
       "      <td>3424</td>\n",
       "      <td>3416</td>\n",
       "      <td>3416</td>\n",
       "      <td>3403</td>\n",
       "      <td>3403</td>\n",
       "      <td>3426</td>\n",
       "      <td>3426</td>\n",
       "    </tr>\n",
       "    <tr>\n",
       "      <th>97854</th>\n",
       "      <td>164549185804000</td>\n",
       "      <td>234</td>\n",
       "      <td>0x0</td>\n",
       "      <td>3399</td>\n",
       "      <td>3399</td>\n",
       "      <td>3404</td>\n",
       "      <td>3404</td>\n",
       "      <td>3392</td>\n",
       "      <td>3392</td>\n",
       "      <td>3390</td>\n",
       "      <td>...</td>\n",
       "      <td>3402</td>\n",
       "      <td>3402</td>\n",
       "      <td>3414</td>\n",
       "      <td>3414</td>\n",
       "      <td>3401</td>\n",
       "      <td>3401</td>\n",
       "      <td>3404</td>\n",
       "      <td>3404</td>\n",
       "      <td>3427</td>\n",
       "      <td>3427</td>\n",
       "    </tr>\n",
       "    <tr>\n",
       "      <th>97855</th>\n",
       "      <td>164550366944000</td>\n",
       "      <td>90</td>\n",
       "      <td>0x0</td>\n",
       "      <td>3394</td>\n",
       "      <td>3394</td>\n",
       "      <td>3399</td>\n",
       "      <td>3399</td>\n",
       "      <td>3393</td>\n",
       "      <td>3393</td>\n",
       "      <td>3393</td>\n",
       "      <td>...</td>\n",
       "      <td>3398</td>\n",
       "      <td>3398</td>\n",
       "      <td>3414</td>\n",
       "      <td>3414</td>\n",
       "      <td>3407</td>\n",
       "      <td>3407</td>\n",
       "      <td>3389</td>\n",
       "      <td>3389</td>\n",
       "      <td>3392</td>\n",
       "      <td>3392</td>\n",
       "    </tr>\n",
       "    <tr>\n",
       "      <th>97856</th>\n",
       "      <td>164551135528000</td>\n",
       "      <td>127</td>\n",
       "      <td>0x0</td>\n",
       "      <td>3401</td>\n",
       "      <td>3401</td>\n",
       "      <td>3406</td>\n",
       "      <td>3406</td>\n",
       "      <td>3402</td>\n",
       "      <td>3402</td>\n",
       "      <td>3390</td>\n",
       "      <td>...</td>\n",
       "      <td>3423</td>\n",
       "      <td>3423</td>\n",
       "      <td>3406</td>\n",
       "      <td>3406</td>\n",
       "      <td>3411</td>\n",
       "      <td>3411</td>\n",
       "      <td>3406</td>\n",
       "      <td>3406</td>\n",
       "      <td>3408</td>\n",
       "      <td>3408</td>\n",
       "    </tr>\n",
       "  </tbody>\n",
       "</table>\n",
       "<p>97857 rows × 2499 columns</p>\n",
       "</div>"
      ],
      "text/plain": [
       "               TIMETAG  ENERGY FLAGS     0     1     2     3     4     5  \\\n",
       "0           1515996000     114   0x0  3389  3389  3405  3405  3396  3396   \n",
       "1           2111988000     204   0x0  3389  3389  3427  3427  3425  3425   \n",
       "2           4026140000      89   0x0  3391  3391  3389  3389  3380  3380   \n",
       "3           7162124000      95   0x0  3393  3393  3392  3392  3404  3404   \n",
       "4           7522468000     270   0x0  3390  3390  3404  3404  3403  3403   \n",
       "...                ...     ...   ...   ...   ...   ...   ...   ...   ...   \n",
       "97852  164548898420000     183   0x0  3403  3403  3393  3393  3397  3397   \n",
       "97853  164549044264000     229   0x0  3388  3388  3397  3397  3394  3394   \n",
       "97854  164549185804000     234   0x0  3399  3399  3404  3404  3392  3392   \n",
       "97855  164550366944000      90   0x0  3394  3394  3399  3399  3393  3393   \n",
       "97856  164551135528000     127   0x0  3401  3401  3406  3406  3402  3402   \n",
       "\n",
       "          6  ...  2486  2487  2488  2489  2490  2491  2492  2493  2494  2495  \n",
       "0      3389  ...  3404  3404  3405  3405  3404  3404  3396  3396  3405  3405  \n",
       "1      3393  ...  3416  3416  3408  3408  3401  3401  3409  3409  3402  3402  \n",
       "2      3375  ...  3451  3451  3448  3448  3461  3461  3441  3441  3413  3413  \n",
       "3      3394  ...  3405  3405  3396  3396  3396  3396  3400  3400  3402  3402  \n",
       "4      3390  ...  3426  3426  3406  3406  3408  3408  3422  3422  3410  3410  \n",
       "...     ...  ...   ...   ...   ...   ...   ...   ...   ...   ...   ...   ...  \n",
       "97852  3398  ...  3415  3415  3412  3412  3409  3409  3418  3418  3412  3412  \n",
       "97853  3387  ...  3411  3411  3424  3424  3416  3416  3403  3403  3426  3426  \n",
       "97854  3390  ...  3402  3402  3414  3414  3401  3401  3404  3404  3427  3427  \n",
       "97855  3393  ...  3398  3398  3414  3414  3407  3407  3389  3389  3392  3392  \n",
       "97856  3390  ...  3423  3423  3406  3406  3411  3411  3406  3406  3408  3408  \n",
       "\n",
       "[97857 rows x 2499 columns]"
      ]
     },
     "execution_count": 3,
     "metadata": {},
     "output_type": "execute_result"
    }
   ],
   "source": [
    "# retain data\n",
    "df0 = pd.read_csv(filename_ch0, skiprows=1, header=None, sep=';')\n",
    "df0.columns = (['TIMETAG', 'ENERGY', 'FLAGS'] + [x for x in range(len(df0.columns)-3)])\n",
    "df2 = pd.read_csv(filename_ch2, skiprows=1, header=None, sep=';')\n",
    "df2.columns = (['TIMETAG', 'ENERGY', 'FLAGS'] + [x for x in range(len(df2.columns)-3)])\n",
    "df4 = pd.read_csv(filename_ch4, skiprows=1, header=None, sep=';')\n",
    "df4.columns = (['TIMETAG', 'ENERGY', 'FLAGS'] + [x for x in range(len(df4.columns)-3)])\n",
    "\n"
   ]
  },
  {
   "cell_type": "code",
   "execution_count": 4,
   "metadata": {},
   "outputs": [],
   "source": [
    "def resolution_fit(E, a, b):\n",
    "    return a / np.sqrt(E) + b\n",
    "    \n",
    "def linear(x, a, b):\n",
    "    return a + b * x\n",
    "    \n",
    "def inv_linear(y, a, b): # invert the linear for y = a + b * x\n",
    "    return (y - a) / b"
   ]
  },
  {
   "cell_type": "code",
   "execution_count": 106,
   "metadata": {},
   "outputs": [
    {
     "name": "stderr",
     "output_type": "stream",
     "text": [
      "Warning in <TROOT::Append>: Replacing existing TH1: hist (Potential memory leak).\n"
     ]
    }
   ],
   "source": [
    "bins = 16300\n",
    "xMin, xMax = 180, 260\n",
    "\n",
    "\n",
    "h = r.TH1I(\"hist\", \"\", xMax - xMin, xMin, xMax)\n",
    "\n",
    "for entry in df0[\"ENERGY\"]:         \n",
    "     # Now you have acess to the leaves/branches of each entry in the tree, e.g.\n",
    "     h.Fill(entry)\n",
    "#h.Rebin(64)\n",
    "h.GetXaxis().SetRangeUser(xMin, xMax)"
   ]
  },
  {
   "cell_type": "code",
   "execution_count": 107,
   "metadata": {},
   "outputs": [
    {
     "name": "stderr",
     "output_type": "stream",
     "text": [
      "Warning in <TCanvas::Constructor>: Deleting canvas with same name: c1\n"
     ]
    },
    {
     "data": {
      "text/html": [
       "\n",
       "\n",
       "<div id=\"root_plot_1653930747510\"\n",
       "     style=\"width: 796px; height: 572px\">\n",
       "</div>\n",
       "<script>\n",
       "\n",
       "function display_root_plot_1653930747510(Core) {\n",
       "   let obj = Core.parse({\"_typename\":\"TCanvas\",\"fUniqueID\":0,\"fBits\":3342344,\"fLineColor\":1,\"fLineStyle\":1,\"fLineWidth\":1,\"fFillColor\":0,\"fFillStyle\":1001,\"fLeftMargin\":0.1,\"fRightMargin\":0.1,\"fBottomMargin\":0.1,\"fTopMargin\":0.1,\"fXfile\":2,\"fYfile\":2,\"fAfile\":1,\"fXstat\":0.99,\"fYstat\":0.99,\"fAstat\":2,\"fFrameFillColor\":0,\"fFrameLineColor\":1,\"fFrameFillStyle\":1001,\"fFrameLineStyle\":1,\"fFrameLineWidth\":1,\"fFrameBorderSize\":1,\"fFrameBorderMode\":0,\"fX1\":169.999999254942,\"fY1\":-35.8912546410601,\"fX2\":270.000000745058,\"fY2\":587.02125464106,\"fXtoAbsPixelk\":-1353.19992390508,\"fXtoPixelk\":-1353.19992390508,\"fXtoPixel\":7.95999988138675,\"fYtoAbsPixelk\":539.042295341411,\"fYtoPixelk\":539.042295341411,\"fYtoPixel\":-0.918266998136232,\"fUtoAbsPixelk\":5e-5,\"fUtoPixelk\":5e-5,\"fUtoPixel\":796,\"fVtoAbsPixelk\":572.00005,\"fVtoPixelk\":572,\"fVtoPixel\":-572,\"fAbsPixeltoXk\":169.999999254942,\"fPixeltoXk\":169.999999254942,\"fPixeltoX\":0.125628142575523,\"fAbsPixeltoYk\":587.02125464106,\"fPixeltoYk\":-35.8912546410601,\"fPixeltoY\":-1.08900788336035,\"fXlowNDC\":0,\"fYlowNDC\":0,\"fXUpNDC\":1,\"fYUpNDC\":1,\"fWNDC\":1,\"fHNDC\":1,\"fAbsXlowNDC\":0,\"fAbsYlowNDC\":0,\"fAbsWNDC\":1,\"fAbsHNDC\":1,\"fUxmin\":180,\"fUymin\":26.4,\"fUxmax\":260,\"fUymax\":524.73,\"fTheta\":30,\"fPhi\":30,\"fAspectRatio\":0,\"fNumber\":0,\"fTickx\":0,\"fTicky\":0,\"fLogx\":0,\"fLogy\":0,\"fLogz\":0,\"fPadPaint\":0,\"fCrosshair\":0,\"fCrosshairPos\":0,\"fBorderSize\":2,\"fBorderMode\":0,\"fModified\":false,\"fGridx\":false,\"fGridy\":false,\"fAbsCoord\":false,\"fEditable\":true,\"fFixedAspectRatio\":false,\"fPrimitives\":{\"_typename\":\"TList\",\"name\":\"TList\",\"arr\":[{\"_typename\":\"TFrame\",\"fUniqueID\":0,\"fBits\":8,\"fLineColor\":1,\"fLineStyle\":1,\"fLineWidth\":1,\"fFillColor\":0,\"fFillStyle\":1001,\"fX1\":180,\"fY1\":26.4,\"fX2\":260,\"fY2\":524.73,\"fBorderSize\":1,\"fBorderMode\":0},{\"_typename\":\"TH1I\",\"fUniqueID\":0,\"fBits\":8,\"fName\":\"hist\",\"fTitle\":\"\",\"fLineColor\":602,\"fLineStyle\":1,\"fLineWidth\":1,\"fFillColor\":0,\"fFillStyle\":1001,\"fMarkerColor\":1,\"fMarkerStyle\":1,\"fMarkerSize\":1,\"fNcells\":82,\"fXaxis\":{\"_typename\":\"TAxis\",\"fUniqueID\":0,\"fBits\":2048,\"fName\":\"xaxis\",\"fTitle\":\"\",\"fNdivisions\":510,\"fAxisColor\":1,\"fLabelColor\":1,\"fLabelFont\":42,\"fLabelOffset\":0.005,\"fLabelSize\":0.035,\"fTickLength\":0.03,\"fTitleOffset\":1,\"fTitleSize\":0.035,\"fTitleColor\":1,\"fTitleFont\":42,\"fNbins\":80,\"fXmin\":180,\"fXmax\":260,\"fXbins\":[],\"fFirst\":1,\"fLast\":80,\"fBits2\":0,\"fTimeDisplay\":false,\"fTimeFormat\":\"\",\"fLabels\":null,\"fModLabs\":null},\"fYaxis\":{\"_typename\":\"TAxis\",\"fUniqueID\":0,\"fBits\":0,\"fName\":\"yaxis\",\"fTitle\":\"\",\"fNdivisions\":510,\"fAxisColor\":1,\"fLabelColor\":1,\"fLabelFont\":42,\"fLabelOffset\":0.005,\"fLabelSize\":0.035,\"fTickLength\":0.03,\"fTitleOffset\":0,\"fTitleSize\":0.035,\"fTitleColor\":1,\"fTitleFont\":42,\"fNbins\":1,\"fXmin\":0,\"fXmax\":1,\"fXbins\":[],\"fFirst\":0,\"fLast\":0,\"fBits2\":0,\"fTimeDisplay\":false,\"fTimeFormat\":\"\",\"fLabels\":null,\"fModLabs\":null},\"fZaxis\":{\"_typename\":\"TAxis\",\"fUniqueID\":0,\"fBits\":0,\"fName\":\"zaxis\",\"fTitle\":\"\",\"fNdivisions\":510,\"fAxisColor\":1,\"fLabelColor\":1,\"fLabelFont\":42,\"fLabelOffset\":0.005,\"fLabelSize\":0.035,\"fTickLength\":0.03,\"fTitleOffset\":1,\"fTitleSize\":0.035,\"fTitleColor\":1,\"fTitleFont\":42,\"fNbins\":1,\"fXmin\":0,\"fXmax\":1,\"fXbins\":[],\"fFirst\":0,\"fLast\":0,\"fBits2\":0,\"fTimeDisplay\":false,\"fTimeFormat\":\"\",\"fLabels\":null,\"fModLabs\":null},\"fBarOffset\":0,\"fBarWidth\":1000,\"fEntries\":91042,\"fTsumw\":14261,\"fTsumw2\":14261,\"fTsumwx\":3027614,\"fTsumwx2\":648636494,\"fMaximum\":-1111,\"fMinimum\":-1111,\"fNormFactor\":0,\"fContour\":[],\"fSumw2\":[],\"fOption\":\"\",\"fFunctions\":{\"_typename\":\"TList\",\"name\":\"TList\",\"arr\":[{\"_typename\":\"TPaveStats\",\"fUniqueID\":0,\"fBits\":9,\"fLineColor\":1,\"fLineStyle\":1,\"fLineWidth\":1,\"fFillColor\":0,\"fFillStyle\":1001,\"fX1\":248.000002026558,\"fY1\":446.865943765431,\"fX2\":268.000002622604,\"fY2\":546.531943022861,\"fX1NDC\":0.780000016093254,\"fY1NDC\":0.775000005960464,\"fX2NDC\":0.980000019073486,\"fY2NDC\":0.935000002384186,\"fBorderSize\":1,\"fInit\":1,\"fShadowColor\":1,\"fCornerRadius\":0,\"fOption\":\"brNDC\",\"fName\":\"stats\",\"fTextAngle\":0,\"fTextSize\":0,\"fTextAlign\":12,\"fTextColor\":1,\"fTextFont\":42,\"fLabel\":\"\",\"fLongest\":18,\"fMargin\":0.05,\"fLines\":{\"_typename\":\"TList\",\"name\":\"TList\",\"arr\":[{\"_typename\":\"TLatex\",\"fUniqueID\":0,\"fBits\":0,\"fName\":\"\",\"fTitle\":\"hist\",\"fTextAngle\":0,\"fTextSize\":0.0368,\"fTextAlign\":0,\"fTextColor\":0,\"fTextFont\":0,\"fX\":0,\"fY\":0,\"fLineColor\":1,\"fLineStyle\":1,\"fLineWidth\":2,\"fLimitFactorSize\":3,\"fOriginSize\":0.0368000008165836},{\"_typename\":\"TLatex\",\"fUniqueID\":0,\"fBits\":0,\"fName\":\"\",\"fTitle\":\"Entries = 91042  \",\"fTextAngle\":0,\"fTextSize\":0,\"fTextAlign\":0,\"fTextColor\":0,\"fTextFont\":0,\"fX\":0,\"fY\":0,\"fLineColor\":1,\"fLineStyle\":1,\"fLineWidth\":2,\"fLimitFactorSize\":3,\"fOriginSize\":0.04},{\"_typename\":\"TLatex\",\"fUniqueID\":0,\"fBits\":0,\"fName\":\"\",\"fTitle\":\"Mean  =  212.8\",\"fTextAngle\":0,\"fTextSize\":0,\"fTextAlign\":0,\"fTextColor\":0,\"fTextFont\":0,\"fX\":0,\"fY\":0,\"fLineColor\":1,\"fLineStyle\":1,\"fLineWidth\":2,\"fLimitFactorSize\":3,\"fOriginSize\":0.04},{\"_typename\":\"TLatex\",\"fUniqueID\":0,\"fBits\":0,\"fName\":\"\",\"fTitle\":\"Std Dev   =  20.29\",\"fTextAngle\":0,\"fTextSize\":0,\"fTextAlign\":0,\"fTextColor\":0,\"fTextFont\":0,\"fX\":0,\"fY\":0,\"fLineColor\":1,\"fLineStyle\":1,\"fLineWidth\":2,\"fLimitFactorSize\":3,\"fOriginSize\":0.04}],\"opt\":[\"\",\"\",\"\",\"\"]},\"fOptFit\":0,\"fOptStat\":1111,\"fFitFormat\":\"5.4g\",\"fStatFormat\":\"6.4g\",\"fParent\":{\"$ref\":3}}],\"opt\":[\"brNDC\"]},\"fBufferSize\":0,\"fBuffer\":[],\"fBinStatErrOpt\":0,\"fStatOverflows\":2,\"fArray\":{\"$arr\":\"Int32\",\"len\":82,\"v\":[70668,213,224,231,222,235,227,210,206,203,198,208,205,175,204,163,147,204,203,206,249,292,328,376,411,501,438,393,364,290,253,189,164,151,120,119,93,86,77,103,82,85,76,86,96,106,120,132,199,214,264,299,292,342,342,306,280,245,191,156,146,118,70,85,73,73,61,58,74,57,59,80,49,72,56,51,57,65,57,53,53,6113]}},{\"_typename\":\"TStyle\",\"fUniqueID\":0,\"fBits\":0,\"fName\":\"Modern\",\"fTitle\":\"Modern Style\",\"fLineColor\":1,\"fLineStyle\":1,\"fLineWidth\":1,\"fFillColor\":19,\"fFillStyle\":1001,\"fMarkerColor\":1,\"fMarkerStyle\":1,\"fMarkerSize\":1,\"fTextAngle\":0,\"fTextSize\":0.05,\"fTextAlign\":11,\"fTextColor\":1,\"fTextFont\":62,\"fXaxis\":{\"_typename\":\"TAttAxis\",\"fNdivisions\":510,\"fAxisColor\":1,\"fLabelColor\":1,\"fLabelFont\":42,\"fLabelOffset\":0.005,\"fLabelSize\":0.035,\"fTickLength\":0.03,\"fTitleOffset\":1,\"fTitleSize\":0.035,\"fTitleColor\":1,\"fTitleFont\":42},\"fYaxis\":{\"_typename\":\"TAttAxis\",\"fNdivisions\":510,\"fAxisColor\":1,\"fLabelColor\":1,\"fLabelFont\":42,\"fLabelOffset\":0.005,\"fLabelSize\":0.035,\"fTickLength\":0.03,\"fTitleOffset\":0,\"fTitleSize\":0.035,\"fTitleColor\":1,\"fTitleFont\":42},\"fZaxis\":{\"_typename\":\"TAttAxis\",\"fNdivisions\":510,\"fAxisColor\":1,\"fLabelColor\":1,\"fLabelFont\":42,\"fLabelOffset\":0.005,\"fLabelSize\":0.035,\"fTickLength\":0.03,\"fTitleOffset\":1,\"fTitleSize\":0.035,\"fTitleColor\":1,\"fTitleFont\":42},\"fBarWidth\":1,\"fBarOffset\":0,\"fColorModelPS\":0,\"fDrawBorder\":0,\"fOptLogx\":0,\"fOptLogy\":0,\"fOptLogz\":0,\"fOptDate\":0,\"fOptStat\":1111,\"fOptTitle\":1,\"fOptFile\":0,\"fOptFit\":0,\"fShowEventStatus\":0,\"fShowEditor\":0,\"fShowToolBar\":0,\"fNumberContours\":20,\"fAttDate\":{\"_typename\":\"TAttText\",\"fTextAngle\":0,\"fTextSize\":0.025,\"fTextAlign\":11,\"fTextColor\":1,\"fTextFont\":62},\"fDateX\":0.01,\"fDateY\":0.01,\"fEndErrorSize\":2,\"fErrorX\":0.5,\"fFuncColor\":2,\"fFuncStyle\":1,\"fFuncWidth\":2,\"fGridColor\":0,\"fGridStyle\":3,\"fGridWidth\":1,\"fLegendBorderSize\":1,\"fLegendFillColor\":0,\"fLegendFont\":42,\"fLegendTextSize\":0,\"fHatchesLineWidth\":1,\"fHatchesSpacing\":1,\"fFrameFillColor\":0,\"fFrameLineColor\":1,\"fFrameFillStyle\":1001,\"fFrameLineStyle\":1,\"fFrameLineWidth\":1,\"fFrameBorderSize\":1,\"fFrameBorderMode\":0,\"fHistFillColor\":0,\"fHistLineColor\":602,\"fHistFillStyle\":1001,\"fHistLineStyle\":1,\"fHistLineWidth\":1,\"fHistMinimumZero\":false,\"fHistTopMargin\":0.05,\"fCanvasPreferGL\":false,\"fCanvasColor\":0,\"fCanvasBorderSize\":2,\"fCanvasBorderMode\":0,\"fCanvasDefH\":500,\"fCanvasDefW\":700,\"fCanvasDefX\":10,\"fCanvasDefY\":10,\"fPadColor\":0,\"fPadBorderSize\":2,\"fPadBorderMode\":0,\"fPadBottomMargin\":0.1,\"fPadTopMargin\":0.1,\"fPadLeftMargin\":0.1,\"fPadRightMargin\":0.1,\"fPadGridX\":false,\"fPadGridY\":false,\"fPadTickX\":0,\"fPadTickY\":0,\"fPaperSizeX\":20,\"fPaperSizeY\":26,\"fScreenFactor\":1,\"fStatColor\":0,\"fStatTextColor\":1,\"fStatBorderSize\":1,\"fStatFont\":42,\"fStatFontSize\":0,\"fStatStyle\":1001,\"fStatFormat\":\"6.4g\",\"fStatX\":0.98,\"fStatY\":0.935,\"fStatW\":0.2,\"fStatH\":0.16,\"fStripDecimals\":true,\"fTitleAlign\":23,\"fTitleColor\":0,\"fTitleTextColor\":1,\"fTitleBorderSize\":0,\"fTitleFont\":42,\"fTitleFontSize\":0.05,\"fTitleStyle\":0,\"fTitleX\":0.5,\"fTitleY\":0.995,\"fTitleW\":0,\"fTitleH\":0,\"fLegoInnerR\":0.5,\"fLineStyles\":[\"\",\"  \",\" 12 12\",\" 4 8\",\" 12 16 4 16\",\" 20 12 4 12\",\" 20 12 4 12 4 12 4 12\",\" 20 20\",\" 20 12 4 12 4 12\",\" 80 20\",\" 80 40 4 40\",\"  \",\"  \",\"  \",\"  \",\"  \",\"  \",\"  \",\"  \",\"  \",\"  \",\"  \",\"  \",\"  \",\"  \",\"  \",\"  \",\"  \",\"  \",\"  \"],\"fHeaderPS\":\"\",\"fTitlePS\":\"\",\"fFitFormat\":\"5.4g\",\"fPaintTextFormat\":\"g\",\"fLineScalePS\":3,\"fJoinLinePS\":0,\"fCapLinePS\":0,\"fTimeOffset\":788918400,\"fImageScaling\":1}],\"opt\":[\"\",\"\",\"\"]},\"fExecs\":null,\"fName\":\"c1\",\"fTitle\":\"\",\"fNumPaletteColor\":0,\"fNextPaletteColor\":0,\"fDISPLAY\":\"$DISPLAY\",\"fDoubleBuffer\":0,\"fRetained\":true,\"fXsizeUser\":0,\"fYsizeUser\":0,\"fXsizeReal\":20,\"fYsizeReal\":15,\"fWindowTopX\":0,\"fWindowTopY\":0,\"fWindowWidth\":0,\"fWindowHeight\":0,\"fCw\":796,\"fCh\":572,\"fCatt\":{\"_typename\":\"TAttCanvas\",\"fXBetween\":2,\"fYBetween\":2,\"fTitleFromTop\":1.2,\"fXdate\":0.2,\"fYdate\":0.3,\"fAdate\":1},\"kMoveOpaque\":true,\"kResizeOpaque\":true,\"fHighLightColor\":2,\"fBatch\":true,\"kShowEventStatus\":false,\"kAutoExec\":true,\"kMenuBar\":true});\n",
       "   Core.settings.HandleKeys = false;\n",
       "   Core.draw(\"root_plot_1653930747510\", obj, \"\");\n",
       "}\n",
       "\n",
       "function script_load_root_plot_1653930747510(src, on_error) {\n",
       "    let script = document.createElement('script');\n",
       "    script.src = src;\n",
       "    script.onload = function() { display_root_plot_1653930747510(JSROOT); };\n",
       "    script.onerror = function() { script.remove(); on_error(); };\n",
       "    document.head.appendChild(script);\n",
       "}\n",
       "\n",
       "if (typeof requirejs !== 'undefined') {\n",
       "\n",
       "    // We are in jupyter notebooks, use require.js which should be configured already\n",
       "    requirejs.config({\n",
       "       paths: { 'JSRootCore' : [ 'scripts/JSRoot.core', 'https://root.cern/js/6.1.1/scripts/JSRoot.core.min', 'https://jsroot.gsi.de/6.1.1/scripts/JSRoot.core.min' ] }\n",
       "    })(['JSRootCore'],  function(Core) {\n",
       "       display_root_plot_1653930747510(Core);\n",
       "    });\n",
       "\n",
       "} else if (typeof JSROOT !== 'undefined') {\n",
       "\n",
       "   // JSROOT already loaded, just use it\n",
       "   display_root_plot_1653930747510(JSROOT);\n",
       "\n",
       "} else {\n",
       "\n",
       "    // We are in jupyterlab without require.js, directly loading jsroot\n",
       "    // Jupyterlab might be installed in a different base_url so we need to know it.\n",
       "    try {\n",
       "        var base_url = JSON.parse(document.getElementById('jupyter-config-data').innerHTML).baseUrl;\n",
       "    } catch(_) {\n",
       "        var base_url = '/';\n",
       "    }\n",
       "\n",
       "    // Try loading a local version of requirejs and fallback to cdn if not possible.\n",
       "    script_load_root_plot_1653930747510(base_url + 'static/scripts/JSRoot.core.js', function(){\n",
       "        console.error('Fail to load JSROOT locally, please check your jupyter_notebook_config.py file');\n",
       "        script_load_root_plot_1653930747510('https://root.cern/js/6.1.1/scripts/JSRoot.core.min.js', function(){\n",
       "            document.getElementById(\"root_plot_1653930747510\").innerHTML = \"Failed to load JSROOT\";\n",
       "        });\n",
       "    });\n",
       "}\n",
       "\n",
       "</script>\n"
      ],
      "text/plain": [
       "<IPython.core.display.HTML object>"
      ]
     },
     "metadata": {},
     "output_type": "display_data"
    }
   ],
   "source": [
    "c1 = r.TCanvas(\"c1\", \"\", 800, 600)\n",
    "h.Draw()\n",
    "c1.Draw()"
   ]
  },
  {
   "cell_type": "code",
   "execution_count": 108,
   "metadata": {},
   "outputs": [],
   "source": [
    "if \"60Co\" in filename_ch0:\n",
    "    xval = [1172, 1332]\n",
    "if \"133Ba\" in filename_ch0:\n",
    "    xval = [276.4, 302.85, 356.02, 383.8]\n",
    "if \"22Na\" in filename_ch0:\n",
    "    xval = [511, 1275]\n",
    "if \"137Cs\" in filename_ch0:\n",
    "    xval = [662]\n",
    "\n",
    "npeaks = len(xval)\n",
    "resolution = np.zeros(npeaks)\n",
    "mean = np.zeros(npeaks)\n",
    "sigma = np.zeros(npeaks)\n",
    "umean = np.zeros(npeaks)\n",
    "usigma = np.zeros(npeaks)"
   ]
  },
  {
   "cell_type": "code",
   "execution_count": 109,
   "metadata": {},
   "outputs": [
    {
     "name": "stdout",
     "output_type": "stream",
     "text": [
      "\n",
      " --------- Found  2  peaks ---------\n"
     ]
    },
    {
     "name": "stderr",
     "output_type": "stream",
     "text": [
      "Warning in <TSpectrum::SearchHighRes>: Peak buffer full\n"
     ]
    }
   ],
   "source": [
    "ss = r.TSpectrum(npeaks)\n",
    "nfound = ss.Search(h, 5, \"new\", 0.1)\n",
    "print(\"\\n --------- Found \", nfound, \" peaks ---------\")\n",
    "xpeaks = ss.GetPositionX()"
   ]
  },
  {
   "cell_type": "code",
   "execution_count": 110,
   "metadata": {},
   "outputs": [
    {
     "name": "stdout",
     "output_type": "stream",
     "text": [
      " ************ Peak at:  204.5 \n",
      "\n",
      "\n",
      "RESULTS:  Mean at:  204.25040642769576  with sigma  5.5805486641546995 , FWHM of  13.114289360763545 , and resolution of  6.4206919291521585  %\n",
      "\n",
      " ************ Peak at:  233.5 \n",
      "\n",
      "\n",
      "RESULTS:  Mean at:  232.82721895201067  with sigma  5.058457695811827 , FWHM of  11.887375585157793 , and resolution of  5.1056640364750345  %\n",
      "\n",
      " FCN=65.7707 FROM MIGRAD    STATUS=CONVERGED      62 CALLS          63 TOTAL\n",
      "                     EDM=7.24859e-08    STRATEGY= 1  ERROR MATRIX UNCERTAINTY   1.8 per cent\n",
      "  EXT PARAMETER                                   STEP         FIRST   \n",
      "  NO.   NAME      VALUE            ERROR          SIZE      DERIVATIVE \n",
      "   1  Constant     4.07587e+02   8.10021e+00  -1.93691e-02  -5.16530e-05\n",
      "   2  Mean         2.04250e+02   1.00497e-01   1.47089e-03  -4.83428e-04\n",
      "   3  Sigma        5.58055e+00   1.29595e-01  -2.19051e-05   1.30286e-02\n",
      " FCN=14.5285 FROM MIGRAD    STATUS=CONVERGED      78 CALLS          79 TOTAL\n",
      "                     EDM=2.15287e-08    STRATEGY= 1      ERROR MATRIX ACCURATE \n",
      "  EXT PARAMETER                                   STEP         FIRST   \n",
      "  NO.   NAME      VALUE            ERROR          SIZE      DERIVATIVE \n",
      "   1  Constant     3.23027e+02   7.45655e+00   1.03140e-02  -2.19076e-05\n",
      "   2  Mean         2.32827e+02   1.09112e-01   2.09871e-04   2.01568e-04\n",
      "   3  Sigma        5.05846e+00   1.37062e-01   1.44702e-05   5.37714e-03\n"
     ]
    }
   ],
   "source": [
    "for i in range(npeaks):\n",
    "    xp = xpeaks[i]\n",
    "    print(\" ************ Peak at: \", xp, \"\\n\")\n",
    "    fun1 = r.TF1(\"fun1name\", \"gaus\", xp - 10, xp + 10)\n",
    "    h.Fit(fun1,\"RQN\")\n",
    "    fun2 = r.TF1(\"fun2name\", \"gaus\", fun1.GetParameter(1) - 1.5 * fun1.GetParameter(2), fun1.GetParameter(1) + 1.5 * fun1.GetParameter(2))\n",
    "    h.Fit(fun2, \"R+\")\n",
    "    mean[i] = fun2.GetParameter(1)\n",
    "    sigma[i] = fun2.GetParameter(2)\n",
    "    umean[i] = fun2.GetParErrors()[1]\n",
    "    usigma[i] = fun2.GetParErrors()[2]\n",
    "\n",
    "    resolution[i]=((2.35 * sigma[i]) / mean[i]) * 100;\n",
    "    print(\"\\nRESULTS:  Mean at: \", mean[i], \" with sigma \", sigma[i], \", FWHM of \", 2.35 * sigma[i], \", and resolution of \", resolution[i], \" %\\n\")"
   ]
  },
  {
   "cell_type": "code",
   "execution_count": 111,
   "metadata": {},
   "outputs": [],
   "source": [
    "sol = so.curve_fit(resolution_fit, xval, resolution, sigma = 2.35 * usigma / mean, absolute_sigma = True, maxfev = 300)\n",
    "coef, cov = sol\n",
    "a, b = coef; ua, ub = np.sqrt(np.diag(cov))"
   ]
  },
  {
   "cell_type": "code",
   "execution_count": 112,
   "metadata": {},
   "outputs": [
    {
     "data": {
      "text/plain": [
       "<matplotlib.legend.Legend at 0x14b911850>"
      ]
     },
     "execution_count": 112,
     "metadata": {},
     "output_type": "execute_result"
    },
    {
     "data": {
      "image/png": "[encoded data removed]",
      "text/plain": [
       "<Figure size 960x480 with 1 Axes>"
      ]
     },
     "metadata": {},
     "output_type": "display_data"
    }
   ],
   "source": [
    "fig, ax = plt.subplots(); fig.patch.set_facecolor('xkcd:white')\n",
    "plt.rcParams['figure.figsize'] = [12, 6]\n",
    "plt.suptitle(\"Resolution vs Energy\", fontsize = 30)\n",
    "ax.tick_params(which = 'both', axis = 'both', direction='in', right = True, top = True, length = 6)\n",
    "ax.minorticks_on()\n",
    "ax.tick_params(which = 'minor', axis = 'both', direction='in', right = True, top = True, length = 3)\n",
    "ax.tick_params(axis = 'both', labelsize = 18)\n",
    "\n",
    "enh_errors = 100\n",
    "xaux = np.linspace(xval[0] - 100, xval[-1] + 100, 1000)\n",
    "ax.plot(xaux, resolution_fit(xaux, *coef), color = 'blue', linewidth = 1.2, linestyle = 'solid', label = '$R(E)\\, {\\\\rm fit}$')\n",
    "ax.plot(xval, resolution, marker = 'o', markersize = 5, markeredgecolor = \"magenta\", color = \"magenta\", lw = 0, label = \"${\\\\rm Resolution}$\")\n",
    "ax.errorbar(xval, resolution, yerr = 100 * 2.35 * usigma / mean, capsize = 3., elinewidth = 1., lw = 0, color = \"magenta\", label = \"${\\\\rm Errors\\, enhanced\\, by\\, factor}\\, %i$\" % enh_errors)\n",
    "ax.legend(loc = \"best\")"
   ]
  },
  {
   "cell_type": "code",
   "execution_count": 113,
   "metadata": {},
   "outputs": [
    {
     "name": "stdout",
     "output_type": "stream",
     "text": [
      "\n",
      " ************** RESOLUTION @ 1.25 MeV:   5.748069849051882 % ************** \n",
      "\n"
     ]
    }
   ],
   "source": [
    "res_at_one25 = resolution_fit(1250., *coef)\n",
    "print(\"\\n ************** RESOLUTION @ 1.25 MeV:  \", res_at_one25, \"% ************** \\n\")"
   ]
  },
  {
   "cell_type": "code",
   "execution_count": 114,
   "metadata": {},
   "outputs": [
    {
     "data": {
      "text/plain": [
       "<matplotlib.legend.Legend at 0x14b78fca0>"
      ]
     },
     "execution_count": 114,
     "metadata": {},
     "output_type": "execute_result"
    },
    {
     "data": {
      "image/png": "[encoded data removed]",
      "text/plain": [
       "<Figure size 960x480 with 1 Axes>"
      ]
     },
     "metadata": {},
     "output_type": "display_data"
    }
   ],
   "source": [
    "fig, ax = plt.subplots(); fig.patch.set_facecolor('xkcd:white')\n",
    "plt.rcParams['figure.figsize'] = [12, 6]\n",
    "plt.suptitle(\"${\\\\rm Energy\\, calibration}$\", fontsize = 30)\n",
    "ax.tick_params(which = 'both', axis = 'both', direction='in', right = True, top = True, length = 6)\n",
    "ax.minorticks_on()\n",
    "ax.tick_params(which = 'minor', axis = 'both', direction='in', right = True, top = True, length = 3)\n",
    "ax.tick_params(axis = 'both', labelsize = 18)\n",
    "ax.set_xlabel(\"${\\\\rm Energy\\, (\\mathrm{keV})}$\", fontsize = 30)\n",
    "ax.set_ylabel(\"${\\\\rm ADC\\, counts}$\", fontsize = 30)\n",
    "\n",
    "sol = so.curve_fit(linear, xval, mean, sigma = sigma, absolute_sigma = True)\n",
    "coef, cov = sol\n",
    "a, b = coef; ua, ub = np.sqrt(np.diag(cov))\n",
    "\n",
    "enh_errors = 100\n",
    "ax.plot(xaux, linear(xaux, *coef), color = 'blue', linewidth = 1.2, linestyle = 'solid', label = '${\\\\rm ADC(E)}$')\n",
    "ax.plot(xval, mean, marker = 'o', markersize = 5, markeredgecolor = \"magenta\", color = \"magenta\", lw = 0, label = \"${\\\\rm Peaks\\, position}$\")\n",
    "ax.errorbar(xval, mean, yerr = enh_errors * umean, capsize = 3., elinewidth = 1., lw = 0, color = \"magenta\", label = \"${\\\\rm Errors\\, enhanced\\, by\\, factor}\\, %i$\" % enh_errors)\n",
    "ax.legend(loc = \"best\")"
   ]
  },
  {
   "cell_type": "code",
   "execution_count": 115,
   "metadata": {},
   "outputs": [
    {
     "name": "stdout",
     "output_type": "stream",
     "text": [
      "-5.074745312910917 0.17860507827696817\n"
     ]
    }
   ],
   "source": [
    "print(a, b)"
   ]
  },
  {
   "cell_type": "code",
   "execution_count": 68,
   "metadata": {},
   "outputs": [
    {
     "name": "stderr",
     "output_type": "stream",
     "text": [
      "Warning in <TROOT::Append>: Replacing existing TH1: hist_cal (Potential memory leak).\n"
     ]
    }
   ],
   "source": [
    "hcal = r.TH1I(\"hist_cal\", \"Calibrated spectrum\", round(inv_linear(xMax - xMin, *coef) / 2), inv_linear(xMin, *coef), inv_linear(xMax, *coef))\n",
    "\n",
    "for entry in df0[\"ENERGY\"]:         \n",
    "     hcal.Fill(inv_linear(entry, *coef))\n",
    "\n",
    "\n",
    "hcal.GetXaxis().SetRangeUser(inv_linear(xMin, *coef), inv_linear(xMax, *coef))\n",
    "hcal.GetXaxis().SetTitle(\"Photon energy [keV]\");\n",
    "hcal.GetYaxis().SetTitle(\"counts / %1.2f keV\" % hcal.GetXaxis().GetBinWidth(0))"
   ]
  },
  {
   "cell_type": "code",
   "execution_count": 69,
   "metadata": {},
   "outputs": [
    {
     "name": "stderr",
     "output_type": "stream",
     "text": [
      "Warning in <TCanvas::Constructor>: Deleting canvas with same name: c2\n"
     ]
    },
    {
     "data": {
      "text/html": [
       "\n",
       "\n",
       "<div id=\"root_plot_1653930203807\"\n",
       "     style=\"width: 796px; height: 572px\">\n",
       "</div>\n",
       "<script>\n",
       "\n",
       "function display_root_plot_1653930203807(Core) {\n",
       "   let obj = Core.parse({\"_typename\":\"TCanvas\",\"fUniqueID\":0,\"fBits\":3342344,\"fLineColor\":1,\"fLineStyle\":1,\"fLineWidth\":1,\"fFillColor\":0,\"fFillStyle\":1001,\"fLeftMargin\":0.1,\"fRightMargin\":0.1,\"fBottomMargin\":0.1,\"fTopMargin\":0.1,\"fXfile\":2,\"fYfile\":2,\"fAfile\":1,\"fXstat\":0.99,\"fYstat\":0.99,\"fAstat\":2,\"fFrameFillColor\":0,\"fFrameLineColor\":1,\"fFrameFillStyle\":1001,\"fFrameLineStyle\":1,\"fFrameLineWidth\":1,\"fFrameBorderSize\":1,\"fFrameBorderMode\":0,\"fX1\":1030.86732434529,\"fY1\":-63.7875047525394,\"fX2\":1472.85597062853,\"fY2\":574.087504752539,\"fXtoAbsPixelk\":-1856.54173467969,\"fXtoPixelk\":-1856.54173467969,\"fXtoPixel\":1.80095123866574,\"fYtoAbsPixelk\":514.800046590614,\"fYtoPixelk\":514.800046590614,\"fYtoPixel\":-0.896727401883653,\"fUtoAbsPixelk\":5e-5,\"fUtoPixelk\":5e-5,\"fUtoPixel\":796,\"fVtoAbsPixelk\":572.00005,\"fVtoPixelk\":572,\"fVtoPixel\":-572,\"fAbsPixeltoXk\":1030.86732434529,\"fPixeltoXk\":1030.86732434529,\"fPixeltoX\":0.555262118446284,\"fAbsPixeltoYk\":574.087504752539,\"fPixeltoYk\":-63.7875047525394,\"fPixeltoY\":-1.11516610053335,\"fXlowNDC\":0,\"fYlowNDC\":0,\"fXUpNDC\":1,\"fYUpNDC\":1,\"fWNDC\":1,\"fHNDC\":1,\"fAbsXlowNDC\":0,\"fAbsYlowNDC\":0,\"fAbsWNDC\":1,\"fAbsHNDC\":1,\"fUxmin\":1075.06619160807,\"fUymin\":0,\"fUxmax\":1428.65710336575,\"fUymax\":510.3,\"fTheta\":30,\"fPhi\":30,\"fAspectRatio\":0,\"fNumber\":0,\"fTickx\":0,\"fTicky\":0,\"fLogx\":0,\"fLogy\":0,\"fLogz\":0,\"fPadPaint\":0,\"fCrosshair\":0,\"fCrosshairPos\":0,\"fBorderSize\":2,\"fBorderMode\":0,\"fModified\":false,\"fGridx\":false,\"fGridy\":false,\"fAbsCoord\":false,\"fEditable\":true,\"fFixedAspectRatio\":false,\"fPrimitives\":{\"_typename\":\"TList\",\"name\":\"TList\",\"arr\":[{\"_typename\":\"TFrame\",\"fUniqueID\":0,\"fBits\":8,\"fLineColor\":1,\"fLineStyle\":1,\"fLineWidth\":1,\"fFillColor\":0,\"fFillStyle\":1001,\"fX1\":1075.06619160807,\"fY1\":0,\"fX2\":1428.65710336575,\"fY2\":510.3,\"fBorderSize\":1,\"fBorderMode\":0},{\"_typename\":\"TH1I\",\"fUniqueID\":0,\"fBits\":8,\"fName\":\"hist_cal\",\"fTitle\":\"Calibrated spectrum\",\"fLineColor\":602,\"fLineStyle\":1,\"fLineWidth\":1,\"fFillColor\":0,\"fFillStyle\":1001,\"fMarkerColor\":1,\"fMarkerStyle\":1,\"fMarkerSize\":1,\"fNcells\":186,\"fXaxis\":{\"_typename\":\"TAxis\",\"fUniqueID\":0,\"fBits\":2048,\"fName\":\"xaxis\",\"fTitle\":\"Photon energy [keV]\",\"fNdivisions\":510,\"fAxisColor\":1,\"fLabelColor\":1,\"fLabelFont\":42,\"fLabelOffset\":0.005,\"fLabelSize\":0.035,\"fTickLength\":0.03,\"fTitleOffset\":1,\"fTitleSize\":0.035,\"fTitleColor\":1,\"fTitleFont\":42,\"fNbins\":184,\"fXmin\":1075.06619160807,\"fXmax\":1428.65710336575,\"fXbins\":[],\"fFirst\":1,\"fLast\":184,\"fBits2\":0,\"fTimeDisplay\":false,\"fTimeFormat\":\"\",\"fLabels\":null,\"fModLabs\":null},\"fYaxis\":{\"_typename\":\"TAxis\",\"fUniqueID\":0,\"fBits\":0,\"fName\":\"yaxis\",\"fTitle\":\"counts \\/ 1.92 keV\",\"fNdivisions\":510,\"fAxisColor\":1,\"fLabelColor\":1,\"fLabelFont\":42,\"fLabelOffset\":0.005,\"fLabelSize\":0.035,\"fTickLength\":0.03,\"fTitleOffset\":0,\"fTitleSize\":0.035,\"fTitleColor\":1,\"fTitleFont\":42,\"fNbins\":1,\"fXmin\":0,\"fXmax\":1,\"fXbins\":[],\"fFirst\":0,\"fLast\":0,\"fBits2\":0,\"fTimeDisplay\":false,\"fTimeFormat\":\"\",\"fLabels\":null,\"fModLabs\":null},\"fZaxis\":{\"_typename\":\"TAxis\",\"fUniqueID\":0,\"fBits\":0,\"fName\":\"zaxis\",\"fTitle\":\"\",\"fNdivisions\":510,\"fAxisColor\":1,\"fLabelColor\":1,\"fLabelFont\":42,\"fLabelOffset\":0.005,\"fLabelSize\":0.035,\"fTickLength\":0.03,\"fTitleOffset\":1,\"fTitleSize\":0.035,\"fTitleColor\":1,\"fTitleFont\":42,\"fNbins\":1,\"fXmin\":0,\"fXmax\":1,\"fXbins\":[],\"fFirst\":0,\"fLast\":0,\"fBits2\":0,\"fTimeDisplay\":false,\"fTimeFormat\":\"\",\"fLabels\":null,\"fModLabs\":null},\"fBarOffset\":0,\"fBarWidth\":1000,\"fEntries\":101065,\"fTsumw\":22769,\"fTsumw2\":22769,\"fTsumwx\":27983540.9795253,\"fTsumwx2\":34580719321.7207,\"fMaximum\":-1111,\"fMinimum\":-1111,\"fNormFactor\":0,\"fContour\":[],\"fSumw2\":[],\"fOption\":\"\",\"fFunctions\":{\"_typename\":\"TList\",\"name\":\"TList\",\"arr\":[{\"_typename\":\"TPaveStats\",\"fUniqueID\":0,\"fBits\":9,\"fLineColor\":1,\"fLineStyle\":1,\"fLineWidth\":1,\"fFillColor\":0,\"fFillStyle\":1001,\"fX1\":1375.61847555926,\"fY1\":430.565631415928,\"fX2\":1464.01620613313,\"fY2\":532.625630655522,\"fX1NDC\":0.780000016093254,\"fY1NDC\":0.775000005960464,\"fX2NDC\":0.980000019073486,\"fY2NDC\":0.935000002384186,\"fBorderSize\":1,\"fInit\":1,\"fShadowColor\":1,\"fCornerRadius\":0,\"fOption\":\"brNDC\",\"fName\":\"stats\",\"fTextAngle\":0,\"fTextSize\":0,\"fTextAlign\":12,\"fTextColor\":1,\"fTextFont\":42,\"fLabel\":\"\",\"fLongest\":18,\"fMargin\":0.05,\"fLines\":{\"_typename\":\"TList\",\"name\":\"TList\",\"arr\":[{\"_typename\":\"TLatex\",\"fUniqueID\":0,\"fBits\":0,\"fName\":\"\",\"fTitle\":\"hist_cal\",\"fTextAngle\":0,\"fTextSize\":0.0368,\"fTextAlign\":0,\"fTextColor\":0,\"fTextFont\":0,\"fX\":0,\"fY\":0,\"fLineColor\":1,\"fLineStyle\":1,\"fLineWidth\":2,\"fLimitFactorSize\":3,\"fOriginSize\":0.0368000008165836},{\"_typename\":\"TLatex\",\"fUniqueID\":0,\"fBits\":0,\"fName\":\"\",\"fTitle\":\"Entries = 101065 \",\"fTextAngle\":0,\"fTextSize\":0,\"fTextAlign\":0,\"fTextColor\":0,\"fTextFont\":0,\"fX\":0,\"fY\":0,\"fLineColor\":1,\"fLineStyle\":1,\"fLineWidth\":2,\"fLimitFactorSize\":3,\"fOriginSize\":0.04},{\"_typename\":\"TLatex\",\"fUniqueID\":0,\"fBits\":0,\"fName\":\"\",\"fTitle\":\"Mean  =   1229\",\"fTextAngle\":0,\"fTextSize\":0,\"fTextAlign\":0,\"fTextColor\":0,\"fTextFont\":0,\"fX\":0,\"fY\":0,\"fLineColor\":1,\"fLineStyle\":1,\"fLineWidth\":2,\"fLimitFactorSize\":3,\"fOriginSize\":0.04},{\"_typename\":\"TLatex\",\"fUniqueID\":0,\"fBits\":0,\"fName\":\"\",\"fTitle\":\"Std Dev   =  90.97\",\"fTextAngle\":0,\"fTextSize\":0,\"fTextAlign\":0,\"fTextColor\":0,\"fTextFont\":0,\"fX\":0,\"fY\":0,\"fLineColor\":1,\"fLineStyle\":1,\"fLineWidth\":2,\"fLimitFactorSize\":3,\"fOriginSize\":0.04}],\"opt\":[\"\",\"\",\"\",\"\"]},\"fOptFit\":0,\"fOptStat\":1111,\"fFitFormat\":\"5.4g\",\"fStatFormat\":\"6.4g\",\"fParent\":{\"$ref\":3}}],\"opt\":[\"brNDC\"]},\"fBufferSize\":0,\"fBuffer\":[],\"fBinStatErrOpt\":0,\"fStatOverflows\":2,\"fArray\":{\"$arr\":\"Int32\",\"len\":186,\"v\":[73433,163,101,91,89,96,75,83,96,78,87,87,182,106,104,97,98,108,98,89,78,98,113,119,223,100,110,137,139,141,137,147,139,149,160,302,159,190,192,168,210,226,220,198,212,236,237,486,264,279,272,246,258,241,240,240,244,264,485,228,215,236,190,198,177,191,150,149,141,114,245,115,109,82,89,59,68,72,61,58,47,88,47,32,42,37,36,32,41,35,40,33,36,88,51,39,42,40,42,57,46,56,45,54,116,64,59,72,72,75,79,75,103,96,88,114,220,110,120,130,146,148,146,154,173,155,170,338,184,175,191,203,202,202,195,202,184,212,203,407,211,184,171,180,155,172,157,155,149,118,222,109,92,97,81,72,52,60,52,68,37,74,29,31,31,22,27,26,25,27,15,17,18,38,14,20,15,19,12,15,21,14,10,17,15,4863]}},{\"_typename\":\"TPaveText\",\"fUniqueID\":0,\"fBits\":9,\"fLineColor\":1,\"fLineStyle\":1,\"fLineWidth\":1,\"fFillColor\":0,\"fFillStyle\":0,\"fX1\":1169.98269550082,\"fY1\":532.090352448078,\"fX2\":1333.740599473,\"fY2\":570.898132746639,\"fX1NDC\":0.314748743718593,\"fY1NDC\":0.934160843929211,\"fX2NDC\":0.685251256281407,\"fY2NDC\":0.995000004768372,\"fBorderSize\":0,\"fInit\":1,\"fShadowColor\":1,\"fCornerRadius\":0,\"fOption\":\"blNDC\",\"fName\":\"title\",\"fTextAngle\":0,\"fTextSize\":0,\"fTextAlign\":22,\"fTextColor\":1,\"fTextFont\":42,\"fLabel\":\"\",\"fLongest\":19,\"fMargin\":0.05,\"fLines\":{\"_typename\":\"TList\",\"name\":\"TList\",\"arr\":[{\"_typename\":\"TLatex\",\"fUniqueID\":0,\"fBits\":0,\"fName\":\"\",\"fTitle\":\"Calibrated spectrum\",\"fTextAngle\":0,\"fTextSize\":0,\"fTextAlign\":0,\"fTextColor\":0,\"fTextFont\":0,\"fX\":0,\"fY\":0,\"fLineColor\":1,\"fLineStyle\":1,\"fLineWidth\":2,\"fLimitFactorSize\":3,\"fOriginSize\":0.0517132878303528}],\"opt\":[\"\"]}},{\"_typename\":\"TStyle\",\"fUniqueID\":0,\"fBits\":0,\"fName\":\"Modern\",\"fTitle\":\"Modern Style\",\"fLineColor\":1,\"fLineStyle\":1,\"fLineWidth\":1,\"fFillColor\":19,\"fFillStyle\":1001,\"fMarkerColor\":1,\"fMarkerStyle\":1,\"fMarkerSize\":1,\"fTextAngle\":0,\"fTextSize\":0.05,\"fTextAlign\":11,\"fTextColor\":1,\"fTextFont\":62,\"fXaxis\":{\"_typename\":\"TAttAxis\",\"fNdivisions\":510,\"fAxisColor\":1,\"fLabelColor\":1,\"fLabelFont\":42,\"fLabelOffset\":0.005,\"fLabelSize\":0.035,\"fTickLength\":0.03,\"fTitleOffset\":1,\"fTitleSize\":0.035,\"fTitleColor\":1,\"fTitleFont\":42},\"fYaxis\":{\"_typename\":\"TAttAxis\",\"fNdivisions\":510,\"fAxisColor\":1,\"fLabelColor\":1,\"fLabelFont\":42,\"fLabelOffset\":0.005,\"fLabelSize\":0.035,\"fTickLength\":0.03,\"fTitleOffset\":0,\"fTitleSize\":0.035,\"fTitleColor\":1,\"fTitleFont\":42},\"fZaxis\":{\"_typename\":\"TAttAxis\",\"fNdivisions\":510,\"fAxisColor\":1,\"fLabelColor\":1,\"fLabelFont\":42,\"fLabelOffset\":0.005,\"fLabelSize\":0.035,\"fTickLength\":0.03,\"fTitleOffset\":1,\"fTitleSize\":0.035,\"fTitleColor\":1,\"fTitleFont\":42},\"fBarWidth\":1,\"fBarOffset\":0,\"fColorModelPS\":0,\"fDrawBorder\":0,\"fOptLogx\":0,\"fOptLogy\":0,\"fOptLogz\":0,\"fOptDate\":0,\"fOptStat\":1111,\"fOptTitle\":1,\"fOptFile\":0,\"fOptFit\":0,\"fShowEventStatus\":0,\"fShowEditor\":0,\"fShowToolBar\":0,\"fNumberContours\":20,\"fAttDate\":{\"_typename\":\"TAttText\",\"fTextAngle\":0,\"fTextSize\":0.025,\"fTextAlign\":11,\"fTextColor\":1,\"fTextFont\":62},\"fDateX\":0.01,\"fDateY\":0.01,\"fEndErrorSize\":2,\"fErrorX\":0.5,\"fFuncColor\":2,\"fFuncStyle\":1,\"fFuncWidth\":2,\"fGridColor\":0,\"fGridStyle\":3,\"fGridWidth\":1,\"fLegendBorderSize\":1,\"fLegendFillColor\":0,\"fLegendFont\":42,\"fLegendTextSize\":0,\"fHatchesLineWidth\":1,\"fHatchesSpacing\":1,\"fFrameFillColor\":0,\"fFrameLineColor\":1,\"fFrameFillStyle\":1001,\"fFrameLineStyle\":1,\"fFrameLineWidth\":1,\"fFrameBorderSize\":1,\"fFrameBorderMode\":0,\"fHistFillColor\":0,\"fHistLineColor\":602,\"fHistFillStyle\":1001,\"fHistLineStyle\":1,\"fHistLineWidth\":1,\"fHistMinimumZero\":false,\"fHistTopMargin\":0.05,\"fCanvasPreferGL\":false,\"fCanvasColor\":0,\"fCanvasBorderSize\":2,\"fCanvasBorderMode\":0,\"fCanvasDefH\":500,\"fCanvasDefW\":700,\"fCanvasDefX\":10,\"fCanvasDefY\":10,\"fPadColor\":0,\"fPadBorderSize\":2,\"fPadBorderMode\":0,\"fPadBottomMargin\":0.1,\"fPadTopMargin\":0.1,\"fPadLeftMargin\":0.1,\"fPadRightMargin\":0.1,\"fPadGridX\":false,\"fPadGridY\":false,\"fPadTickX\":0,\"fPadTickY\":0,\"fPaperSizeX\":20,\"fPaperSizeY\":26,\"fScreenFactor\":1,\"fStatColor\":0,\"fStatTextColor\":1,\"fStatBorderSize\":1,\"fStatFont\":42,\"fStatFontSize\":0,\"fStatStyle\":1001,\"fStatFormat\":\"6.4g\",\"fStatX\":0.98,\"fStatY\":0.935,\"fStatW\":0.2,\"fStatH\":0.16,\"fStripDecimals\":true,\"fTitleAlign\":23,\"fTitleColor\":0,\"fTitleTextColor\":1,\"fTitleBorderSize\":0,\"fTitleFont\":42,\"fTitleFontSize\":0.05,\"fTitleStyle\":0,\"fTitleX\":0.5,\"fTitleY\":0.995,\"fTitleW\":0,\"fTitleH\":0,\"fLegoInnerR\":0.5,\"fLineStyles\":[\"\",\"  \",\" 12 12\",\" 4 8\",\" 12 16 4 16\",\" 20 12 4 12\",\" 20 12 4 12 4 12 4 12\",\" 20 20\",\" 20 12 4 12 4 12\",\" 80 20\",\" 80 40 4 40\",\"  \",\"  \",\"  \",\"  \",\"  \",\"  \",\"  \",\"  \",\"  \",\"  \",\"  \",\"  \",\"  \",\"  \",\"  \",\"  \",\"  \",\"  \",\"  \"],\"fHeaderPS\":\"\",\"fTitlePS\":\"\",\"fFitFormat\":\"5.4g\",\"fPaintTextFormat\":\"g\",\"fLineScalePS\":3,\"fJoinLinePS\":0,\"fCapLinePS\":0,\"fTimeOffset\":788918400,\"fImageScaling\":1}],\"opt\":[\"\",\"\",\"blNDC\",\"\"]},\"fExecs\":null,\"fName\":\"c2\",\"fTitle\":\"\",\"fNumPaletteColor\":0,\"fNextPaletteColor\":0,\"fDISPLAY\":\"$DISPLAY\",\"fDoubleBuffer\":0,\"fRetained\":true,\"fXsizeUser\":0,\"fYsizeUser\":0,\"fXsizeReal\":20,\"fYsizeReal\":15,\"fWindowTopX\":0,\"fWindowTopY\":0,\"fWindowWidth\":0,\"fWindowHeight\":0,\"fCw\":796,\"fCh\":572,\"fCatt\":{\"_typename\":\"TAttCanvas\",\"fXBetween\":2,\"fYBetween\":2,\"fTitleFromTop\":1.2,\"fXdate\":0.2,\"fYdate\":0.3,\"fAdate\":1},\"kMoveOpaque\":true,\"kResizeOpaque\":true,\"fHighLightColor\":2,\"fBatch\":true,\"kShowEventStatus\":false,\"kAutoExec\":true,\"kMenuBar\":true});\n",
       "   Core.settings.HandleKeys = false;\n",
       "   Core.draw(\"root_plot_1653930203807\", obj, \"\");\n",
       "}\n",
       "\n",
       "function script_load_root_plot_1653930203807(src, on_error) {\n",
       "    let script = document.createElement('script');\n",
       "    script.src = src;\n",
       "    script.onload = function() { display_root_plot_1653930203807(JSROOT); };\n",
       "    script.onerror = function() { script.remove(); on_error(); };\n",
       "    document.head.appendChild(script);\n",
       "}\n",
       "\n",
       "if (typeof requirejs !== 'undefined') {\n",
       "\n",
       "    // We are in jupyter notebooks, use require.js which should be configured already\n",
       "    requirejs.config({\n",
       "       paths: { 'JSRootCore' : [ 'scripts/JSRoot.core', 'https://root.cern/js/6.1.1/scripts/JSRoot.core.min', 'https://jsroot.gsi.de/6.1.1/scripts/JSRoot.core.min' ] }\n",
       "    })(['JSRootCore'],  function(Core) {\n",
       "       display_root_plot_1653930203807(Core);\n",
       "    });\n",
       "\n",
       "} else if (typeof JSROOT !== 'undefined') {\n",
       "\n",
       "   // JSROOT already loaded, just use it\n",
       "   display_root_plot_1653930203807(JSROOT);\n",
       "\n",
       "} else {\n",
       "\n",
       "    // We are in jupyterlab without require.js, directly loading jsroot\n",
       "    // Jupyterlab might be installed in a different base_url so we need to know it.\n",
       "    try {\n",
       "        var base_url = JSON.parse(document.getElementById('jupyter-config-data').innerHTML).baseUrl;\n",
       "    } catch(_) {\n",
       "        var base_url = '/';\n",
       "    }\n",
       "\n",
       "    // Try loading a local version of requirejs and fallback to cdn if not possible.\n",
       "    script_load_root_plot_1653930203807(base_url + 'static/scripts/JSRoot.core.js', function(){\n",
       "        console.error('Fail to load JSROOT locally, please check your jupyter_notebook_config.py file');\n",
       "        script_load_root_plot_1653930203807('https://root.cern/js/6.1.1/scripts/JSRoot.core.min.js', function(){\n",
       "            document.getElementById(\"root_plot_1653930203807\").innerHTML = \"Failed to load JSROOT\";\n",
       "        });\n",
       "    });\n",
       "}\n",
       "\n",
       "</script>\n"
      ],
      "text/plain": [
       "<IPython.core.display.HTML object>"
      ]
     },
     "metadata": {},
     "output_type": "display_data"
    }
   ],
   "source": [
    "c2 = r.TCanvas(\"c2\", \"\", 800, 600)\n",
    "hcal.Draw()\n",
    "c2.Draw()"
   ]
  },
  {
   "cell_type": "code",
   "execution_count": 45,
   "metadata": {},
   "outputs": [
    {
     "ename": "NameError",
     "evalue": "name 'analysis_dir' is not defined",
     "output_type": "error",
     "traceback": [
      "\u001b[0;31m---------------------------------------------------------------------------\u001b[0m",
      "\u001b[0;31mNameError\u001b[0m                                 Traceback (most recent call last)",
      "\u001b[1;32m/Users/javi/Documents/Padova/2/AdvancedLab/AdvancedLab_22-23/csv_resolution.ipynb Cell 16'\u001b[0m in \u001b[0;36m<cell line: 1>\u001b[0;34m()\u001b[0m\n\u001b[1;32m      <a href='vscode-notebook-cell:/Users/javi/Documents/Padova/2/AdvancedLab/AdvancedLab_22-23/csv_resolution.ipynb#ch0000015?line=0'>1</a>\u001b[0m \u001b[39mtry\u001b[39;00m:\n\u001b[0;32m----> <a href='vscode-notebook-cell:/Users/javi/Documents/Padova/2/AdvancedLab/AdvancedLab_22-23/csv_resolution.ipynb#ch0000015?line=1'>2</a>\u001b[0m     os\u001b[39m.\u001b[39mmakedirs(analysis_dir \u001b[39m+\u001b[39m date)\n\u001b[1;32m      <a href='vscode-notebook-cell:/Users/javi/Documents/Padova/2/AdvancedLab/AdvancedLab_22-23/csv_resolution.ipynb#ch0000015?line=2'>3</a>\u001b[0m \u001b[39mexcept\u001b[39;00m \u001b[39mFileExistsError\u001b[39;00m:\n\u001b[1;32m      <a href='vscode-notebook-cell:/Users/javi/Documents/Padova/2/AdvancedLab/AdvancedLab_22-23/csv_resolution.ipynb#ch0000015?line=3'>4</a>\u001b[0m     \u001b[39m# directory already exists\u001b[39;00m\n\u001b[1;32m      <a href='vscode-notebook-cell:/Users/javi/Documents/Padova/2/AdvancedLab/AdvancedLab_22-23/csv_resolution.ipynb#ch0000015?line=4'>5</a>\u001b[0m     \u001b[39mpass\u001b[39;00m\n",
      "\u001b[0;31mNameError\u001b[0m: name 'analysis_dir' is not defined"
     ]
    }
   ],
   "source": [
    "try:\n",
    "    os.makedirs(analysis_dir + date)\n",
    "except FileExistsError:\n",
    "    # directory already exists\n",
    "    pass\n",
    "\n",
    "with open(analysis_dir + date + fileName + \"_cal.csv\", 'w') as f:\n",
    "    for i in range(npeaks):\n",
    "        f.write(\",%i peak\" % xval[i])\n",
    "    f.write(\"\\n\")\n",
    "    f.write(\"Resolution (per cent)\")\n",
    "    for i in range(npeaks):\n",
    "        f.write(\",%.3f\" % resolution[i])\n",
    "f.close()"
   ]
  },
  {
   "cell_type": "code",
   "execution_count": null,
   "metadata": {},
   "outputs": [],
   "source": [
    "os.remove(output) # deleting the file once we have done the analysis"
   ]
  }
 ],
 "metadata": {
  "interpreter": {
   "hash": "aee8b7b246df8f9039afb4144a1f6fd8d2ca17a180786b69acc140d282b71a49"
  },
  "kernelspec": {
   "display_name": "Python 3.9.12 64-bit",
   "language": "python",
   "name": "python3"
  },
  "language_info": {
   "codemirror_mode": {
    "name": "ipython",
    "version": 3
   },
   "file_extension": ".py",
   "mimetype": "text/x-python",
   "name": "python",
   "nbconvert_exporter": "python",
   "pygments_lexer": "ipython3",
   "version": "3.9.12"
  },
  "orig_nbformat": 4
 },
 "nbformat": 4,
 "nbformat_minor": 2
}
